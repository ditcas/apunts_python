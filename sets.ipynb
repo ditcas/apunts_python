{
 "cells": [
  {
   "cell_type": "markdown",
   "metadata": {},
   "source": [
    "# Sets\n",
    "\n",
    "A set is an unordered collection of unique elements. You can think of them like dicts, but keys only, no values.\n",
    "\n",
    "Sets support mathematical set operations like union, intersection, difference, and symmetric difference. \n",
    "\n",
    "Like dicts, set elements generally must be immutable. To have list-like elements, you must convert it to a tuple."
   ]
  },
  {
   "cell_type": "markdown",
   "metadata": {},
   "source": [
    "## Crear un Set"
   ]
  },
  {
   "cell_type": "code",
   "execution_count": 3,
   "metadata": {},
   "outputs": [
    {
     "name": "stdout",
     "output_type": "stream",
     "text": [
      "<class 'set'>\n",
      "{2, 3, 4}\n",
      "<class 'set'>\n",
      "{2, 3}\n"
     ]
    }
   ],
   "source": [
    "# Opció 1\n",
    "\n",
    "s1 = {2, 2, 3, 4} # Elements repetits no els considera\n",
    "print(type(s1))\n",
    "print(s1)\n",
    "\n",
    "# Opció 2\n",
    "\n",
    "s2 = set([2, 2, 2, 3])\n",
    "print(type(s2))\n",
    "print(s2)"
   ]
  },
  {
   "cell_type": "markdown",
   "metadata": {},
   "source": [
    "## Sets per comprensió (Set comprehensions)\n",
    "\n",
    "They allow you to concisely form a new set by filtering the elements of a collection, transforming the elements passing the filter in one concise expression. The filter condition can be omitted, leaving only the expression.\n",
    "\n",
    "```python\n",
    "set_comp = {expr for value in collection if condition}\n",
    "```"
   ]
  },
  {
   "cell_type": "code",
   "execution_count": 2,
   "metadata": {},
   "outputs": [
    {
     "name": "stdout",
     "output_type": "stream",
     "text": [
      "{1, 2, 3, 4, 6}\n"
     ]
    }
   ],
   "source": [
    "# Create a set containing the lengths of the strings\n",
    "\n",
    "strings = ['a', 'as', 'bat', 'car', 'dove', 'python']\n",
    "\n",
    "unique_lengths = {len(word) for word in strings}\n",
    "print(unique_lengths)"
   ]
  },
  {
   "cell_type": "markdown",
   "metadata": {},
   "source": [
    "## Set operations"
   ]
  },
  {
   "cell_type": "code",
   "execution_count": 11,
   "metadata": {},
   "outputs": [
    {
     "name": "stdout",
     "output_type": "stream",
     "text": [
      "{1, 2, 3, 4, 5, 6, 7, 8}\n",
      "{1, 2, 3, 4, 5, 6, 7, 8}\n",
      "{3, 4, 5}\n",
      "{1, 2}\n",
      "{1, 2, 6, 7, 8}\n",
      "True\n",
      "True\n"
     ]
    }
   ],
   "source": [
    "a={1,2,3,4,5}\n",
    "b={3,4,5,6,7,8}\n",
    "\n",
    "uab = a | b  # Union |  o   a.union(b)\n",
    "\n",
    "# Per sets molt grans, val la pena\n",
    "uab2 = a.copy()\n",
    "uab2 |= b\n",
    "\n",
    "iab = a & b  # Intersection &  o   a.intersection(b)\n",
    "dab = a - b # elements in a that are not in b   o   a.difference(b)\n",
    "bab = a ^ b # elements in a or b but not both   o   a.symmetric_difference(b)\n",
    "\n",
    "print(uab)\n",
    "print(uab2)\n",
    "print(iab)\n",
    "print(dab)\n",
    "print(bab)\n",
    "\n",
    "print({1, 2}.issubset(a)) # {1,2} is subset of a.\n",
    "print(a.issuperset({1,2}))"
   ]
  }
 ],
 "metadata": {
  "kernelspec": {
   "display_name": "Python 3.8.9 64-bit",
   "language": "python",
   "name": "python3"
  },
  "language_info": {
   "codemirror_mode": {
    "name": "ipython",
    "version": 3
   },
   "file_extension": ".py",
   "mimetype": "text/x-python",
   "name": "python",
   "nbconvert_exporter": "python",
   "pygments_lexer": "ipython3",
   "version": "3.8.9"
  },
  "orig_nbformat": 4,
  "vscode": {
   "interpreter": {
    "hash": "31f2aee4e71d21fbe5cf8b01ff0e069b9275f58929596ceb00d14d90e3e16cd6"
   }
  }
 },
 "nbformat": 4,
 "nbformat_minor": 2
}
