{
 "cells": [
  {
   "cell_type": "markdown",
   "metadata": {},
   "source": [
    "# Strings"
   ]
  },
  {
   "cell_type": "markdown",
   "metadata": {},
   "source": [
    "**Índex**\n",
    "\n",
    "1. [Seleccionar un càracter de la cadena - str[ ]](#id1)\n",
    "\n",
    "2. [Longitud d'una cadena - len(str)](#id2)\n",
    "\n",
    "3. [Recórrer una cadena - for letter in str :](#id3)\n",
    "\n",
    "4. [Slicing strings - str[ : ]](#id4)\n",
    "\n",
    "5. [String to list](#id5)\n",
    "\n",
    "6. [IN as a logical operator - \"_\" in str](#id6)\n",
    "\n",
    "7. [string comparison -  <  >](#id7)\n",
    "\n",
    "8. [String library - Methods](#id8)"
   ]
  },
  {
   "cell_type": "markdown",
   "metadata": {},
   "source": [
    "<div id='id1' />\n",
    "\n",
    "# Seleccionar un càracter de la cadena - str[ ]"
   ]
  },
  {
   "cell_type": "code",
   "execution_count": 5,
   "metadata": {},
   "outputs": [
    {
     "name": "stdout",
     "output_type": "stream",
     "text": [
      "www.example.com\n",
      "El primer caràcter de la cadena és w\n"
     ]
    }
   ],
   "source": [
    "str = \"www.example.com\"\n",
    "\n",
    "print(str)\n",
    "\n",
    "print(f\"El primer caràcter de la cadena és {str[0]}\") # imprimeix el que hi ha guardat en l'índex 0 de la cadena, és a dir, el primer caràcter.\n"
   ]
  },
  {
   "cell_type": "markdown",
   "metadata": {},
   "source": [
    "<div id='id2' />\n",
    "\n",
    "# Longitud d'una cadena - len(str)"
   ]
  },
  {
   "cell_type": "code",
   "execution_count": 6,
   "metadata": {},
   "outputs": [
    {
     "name": "stdout",
     "output_type": "stream",
     "text": [
      "La cadena té una longitud de 15 caràcters\n"
     ]
    }
   ],
   "source": [
    "str = \"www.example.com\"\n",
    "\n",
    "print(f\"La cadena té una longitud de {len(str)} caràcters\")"
   ]
  },
  {
   "cell_type": "markdown",
   "metadata": {},
   "source": [
    "Si una cadena és molt llarga podem escriure usant triple \""
   ]
  },
  {
   "cell_type": "code",
   "execution_count": 4,
   "metadata": {},
   "outputs": [
    {
     "name": "stdout",
     "output_type": "stream",
     "text": [
      "\n",
      "This is a longer string \n",
      "that spans multiple lines\n",
      "\n"
     ]
    },
    {
     "data": {
      "text/plain": [
       "3"
      ]
     },
     "execution_count": 4,
     "metadata": {},
     "output_type": "execute_result"
    }
   ],
   "source": [
    "c = \"\"\"\n",
    "This is a longer string \n",
    "that spans multiple lines\n",
    "\"\"\"\n",
    "print(c)\n",
    "c.count(\"\\n\") # Retorna que conté 3 intros, 4 línies de text. "
   ]
  },
  {
   "cell_type": "markdown",
   "metadata": {},
   "source": [
    "<div id='id3' />\n",
    "\n",
    "# Recórrer una cadena - for letter in str :"
   ]
  },
  {
   "cell_type": "code",
   "execution_count": 7,
   "metadata": {},
   "outputs": [
    {
     "name": "stdout",
     "output_type": "stream",
     "text": [
      "La paraula banana té 3 vegades la lletra a\n"
     ]
    }
   ],
   "source": [
    "word = \"banana\"\n",
    "\n",
    "count = 0\n",
    "\n",
    "for letter in word : # Definite loop. Sap com començar, b, avança sol, i sap quan acabar. \"Per cada un dels ítems de la cadena...\"\n",
    "    if letter == \"a\" : # Anem comptant quantes \"a\" té la paraula banana\n",
    "        count = count + 1\n",
    "\n",
    "print(f\"La paraula {word} té {count} vegades la lletra a\")"
   ]
  },
  {
   "cell_type": "markdown",
   "metadata": {},
   "source": [
    "<div id='id4' />\n",
    "\n",
    "# Slicing strings - str[ : ]"
   ]
  },
  {
   "cell_type": "code",
   "execution_count": 8,
   "metadata": {},
   "outputs": [
    {
     "name": "stdout",
     "output_type": "stream",
     "text": [
      "Mont\n",
      "P\n",
      "Python\n",
      "Mo\n",
      "thon\n",
      "Monty Python\n",
      "hon\n",
      "Mny\n"
     ]
    }
   ],
   "source": [
    "s = \"Monty Python\"\n",
    "print(s[0:4]) # Des de l'ítem 0 fins al 4 no inclòs. En total 4 lletres, la 0, 1, 2 i 3.\n",
    "print(s[6:7]) # L'ítem 6\n",
    "print(s[6:20]) # Si et passes de llarg amb un índex, no passa res, para quan la cadena s'acaba.\n",
    "print(s[:2]) # Si no hi ha número primer, s'entèn que és des de l'inici de la cadena.\n",
    "print(s[8:]) # Del 8 fins al final\n",
    "print(s[:]) # tot. No té molt sentit, posaríem print(s).\n",
    "print(s[-3:]) # les tres últimes lletres\n",
    "print(s[:5:2]) # De les 5 primeres lletres, cada 2."
   ]
  },
  {
   "cell_type": "markdown",
   "metadata": {},
   "source": [
    "<div id='id5' />\n",
    "\n",
    "# String to list"
   ]
  },
  {
   "cell_type": "code",
   "execution_count": 5,
   "metadata": {},
   "outputs": [
    {
     "name": "stdout",
     "output_type": "stream",
     "text": [
      "['p', 'y', 't', 'h', 'o', 'n']\n"
     ]
    }
   ],
   "source": [
    "s = \"python\"\n",
    "ls = list(s)\n",
    "print(ls)"
   ]
  },
  {
   "cell_type": "markdown",
   "metadata": {},
   "source": [
    "<div id='id6' />\n",
    "\n",
    "# IN as a logical operator - \"_\" in str"
   ]
  },
  {
   "cell_type": "code",
   "execution_count": 4,
   "metadata": {},
   "outputs": [
    {
     "name": "stdout",
     "output_type": "stream",
     "text": [
      "True\n",
      "False\n"
     ]
    }
   ],
   "source": [
    "fruit = \"banana\"\n",
    "\n",
    "print(\"n\" in fruit) # TRUE\n",
    "print(\"m\" in fruit) # FALSE"
   ]
  },
  {
   "cell_type": "markdown",
   "metadata": {},
   "source": [
    "<div id='id7' />\n",
    "\n",
    "# string comparison -  <  >\n",
    "\n",
    "< > compara per ordre alfabètic, i considera les majúscules més grans que les minúscules."
   ]
  },
  {
   "cell_type": "markdown",
   "metadata": {},
   "source": [
    "<div id='id8' />\n",
    "\n",
    "# String library - Methods\n",
    "\n",
    "METHODS: Functions that are already built into every string. We invoke them by appending the function to the string. These functions do not modify the original string.\n",
    "\n",
    "Documentación de los métodos de cadenas https://docs.python.org/library/stdtypes.html#string-methods\n",
    "\n",
    "Quan un usuari ens proporciona informació a través d'un input, és útil passar-ho a minúscules perquè no et pots fiar de l'usuari, i després quan s'hagi de mostrar ja ho capitalitzem nosaltres. Aleshores usaríem per exemple els mètodes: string.lower, string.capitalize\n",
    "\n",
    "Algunes de les més comuns són: capitalize, center, endswith, find, lstrip, rstrip, strip, replace, lower, upper, startswith...\n",
    "\n",
    "lstrip, rstrip, strip, s'usen majoritàriament per eliminar espais en blanc de l'esquerra, dreta o ambdós costats de la variable que pot haver introduit l'usuari en escriure."
   ]
  },
  {
   "cell_type": "code",
   "execution_count": 11,
   "metadata": {},
   "outputs": [
    {
     "name": "stdout",
     "output_type": "stream",
     "text": [
      "A la cadena li hem suprimit l'expressió om i queda www.example.c\n",
      "Aleshores la cadena té una longitud de 13 caràcters\n",
      "La primera lletra a de la paraula banana es troba en la posició 1\n",
      "Salutació en minúscules: hi there\n"
     ]
    }
   ],
   "source": [
    "str = \"www.example.com\"\n",
    "\n",
    "# elimina l'expressió \"om\" si la troba al principi o al final de la cadena. Si no li posem argument elimina els espais en blanc del davant i darrere de la cadena. Veure també lstrip i rstrip.\n",
    "elim = str.strip(\"om\")\n",
    "\n",
    "print(f\"A la cadena li hem suprimit l'expressió om i queda {elim}\")\n",
    "print(f\"Aleshores la cadena té una longitud de {len(elim)} caràcters\")\n",
    "\n",
    "word = \"banana\"\n",
    "\n",
    "# Indica la posició on es troba o comença per primera vegada la cadena indicada. Retorna un -1 si no la troba.\n",
    "posa = word.find(\"a\")\n",
    "\n",
    "print(f\"La primera lletra a de la paraula banana es troba en la posició {posa}\")\n",
    "\n",
    "# Mostra l'string tota en minúscules. \n",
    "salut = \"Hi There\"\n",
    "salutmin = salut.lower()\n",
    "print(f\"Salutació en minúscules: {salutmin}\") "
   ]
  },
  {
   "cell_type": "code",
   "execution_count": 1,
   "metadata": {},
   "outputs": [
    {
     "name": "stdout",
     "output_type": "stream",
     "text": [
      "0.8475\n"
     ]
    }
   ],
   "source": [
    "# Ejercicio 5: Toma el siguiente código en Python que almacena una cadena: str = 'X-DSPAM-Confidence:0.8475' Utiliza find y una parte de la cadena para extraer la porción de la cadena después del carácter dos puntos y después utiliza la función float para convertir la cadena extraída en un número de punto flotante.\n",
    "\n",
    "import sys\n",
    "\n",
    "def identificador(str,marcador) : #donada una string i un marcador, extreu la subcadena (codi) posterior al marcador i la converteix en un float.\n",
    "    posmarcador = str.find(marcador) #retorna la posició en la que es troba el marcador en la cadena. Si no el troba retorna un -1.\n",
    "    if posmarcador == -1 :\n",
    "            sys.exit(\"Error. No s'ha pogut trobar el marcador\")\n",
    "    try :        \n",
    "        codi = float(str[posmarcador+1:]) #considera el tros de cadena que es troba desde la posició següent al marcador fins al final, i la passa a float. \n",
    "        return codi\n",
    "    except :\n",
    "        sys.exit(\"Error en transformar string to float\")\n",
    "\n",
    "str = \"X-DSPAM-Confidence:0.8475\"\n",
    "marcador = \":\"\n",
    "\n",
    "print(identificador(str,marcador))"
   ]
  }
 ],
 "metadata": {
  "kernelspec": {
   "display_name": "Python 3.8.9 64-bit",
   "language": "python",
   "name": "python3"
  },
  "language_info": {
   "codemirror_mode": {
    "name": "ipython",
    "version": 3
   },
   "file_extension": ".py",
   "mimetype": "text/x-python",
   "name": "python",
   "nbconvert_exporter": "python",
   "pygments_lexer": "ipython3",
   "version": "3.8.9"
  },
  "orig_nbformat": 4,
  "vscode": {
   "interpreter": {
    "hash": "31f2aee4e71d21fbe5cf8b01ff0e069b9275f58929596ceb00d14d90e3e16cd6"
   }
  }
 },
 "nbformat": 4,
 "nbformat_minor": 2
}
