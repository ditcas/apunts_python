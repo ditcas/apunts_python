{
 "cells": [
  {
   "cell_type": "markdown",
   "metadata": {},
   "source": [
    "# Tuples\n",
    "\n",
    "It is a collection: many values in a single \"variable\".\n",
    "\n",
    "Les Tuples són immutables, com les strings. No es poden canviar els elements. Això les diferencia de les Lists, que sí que són mutables.\n",
    "\n"
   ]
  },
  {
   "cell_type": "markdown",
   "metadata": {},
   "source": [
    "## Definir una tupla - ( , , )"
   ]
  },
  {
   "cell_type": "code",
   "execution_count": 1,
   "metadata": {},
   "outputs": [],
   "source": [
    "valors = (5, 4, \"zero\") # Definida una 3-tupla\n",
    "tupla1 = (3,) # Definida una 1-tupla. Cal posar una , al darrere\n",
    "# valors[0] = 1  Resulta Tracebak perquè no es pot modificar en les tuples"
   ]
  },
  {
   "cell_type": "markdown",
   "metadata": {},
   "source": [
    "## Assignació múltiple de variables gràcies a les tuples"
   ]
  },
  {
   "cell_type": "code",
   "execution_count": 23,
   "metadata": {},
   "outputs": [
    {
     "name": "stdout",
     "output_type": "stream",
     "text": [
      "patata 2\n",
      "2 patata\n",
      "1\n",
      "2\n",
      "3\n",
      "[4, 5]\n"
     ]
    }
   ],
   "source": [
    "(x, y) = (\"patata\", 2)\n",
    "print(x,y)\n",
    "\n",
    "# swap the variables\n",
    "\n",
    "(x, y) = (y, x)\n",
    "print(x,y)\n",
    "\n",
    "# “pluck” a few elements from the beginning of a tuple. Amb la resta fa una llista. Normalment s'anomena *rest, o *_ quan són variables que es volen descartar.\n",
    "\n",
    "values = (1,2,3,4,5)\n",
    "\n",
    "(a,b,c, *_) = values\n",
    "print(a)\n",
    "print(b)\n",
    "print(c)\n",
    "print(_)\n"
   ]
  },
  {
   "cell_type": "markdown",
   "metadata": {},
   "source": [
    "## Comparació de tuples\n",
    "\n",
    "Es poden usar comparadors lògics en tuples. Compara els dos primers ítems, si són iguals, els segons... i així successivament. Si fessim un print de les tres següents seqüències, les tres són TRUE."
   ]
  },
  {
   "cell_type": "code",
   "execution_count": 4,
   "metadata": {},
   "outputs": [
    {
     "data": {
      "text/plain": [
       "True"
      ]
     },
     "execution_count": 4,
     "metadata": {},
     "output_type": "execute_result"
    }
   ],
   "source": [
    "(1, 2) > (0, 3)\n",
    "(1, 2) > (1, 1)\n",
    "(\"Joan\", \"Alba\") < (\"Joan\", \"Alma\")"
   ]
  },
  {
   "cell_type": "markdown",
   "metadata": {},
   "source": [
    "## Convertir a tupla"
   ]
  },
  {
   "cell_type": "code",
   "execution_count": 3,
   "metadata": {},
   "outputs": [
    {
     "name": "stdout",
     "output_type": "stream",
     "text": [
      "(1, 'hola', [2, 3])\n",
      "('b', 'a', 'n', 'a', 'n', 'a')\n",
      "(1, 'hola', [2, 3, 4])\n"
     ]
    }
   ],
   "source": [
    "list1 = [1,\"hola\",[2,3]] # mutable\n",
    "cad1 = \"banana\" # immutable\n",
    "\n",
    "tupl1 = tuple(list1) # immutable\n",
    "print(tupl1)\n",
    "\n",
    "tupc1 = tuple(cad1)\n",
    "print(tupc1)\n",
    "\n",
    "# If an object inside a tuple is mutable, such as a list, you can modify it in-place.\n",
    "\n",
    "tupl1[2].append(4)\n",
    "print(tupl1)"
   ]
  },
  {
   "cell_type": "markdown",
   "metadata": {},
   "source": [
    "## Emparellar elements per formar tuples"
   ]
  },
  {
   "cell_type": "code",
   "execution_count": 17,
   "metadata": {},
   "outputs": [
    {
     "name": "stdout",
     "output_type": "stream",
     "text": [
      "[('Judit', 1, True), ('Israel', 2, False)]\n",
      "0: Judit, 1, True\n",
      "1: Israel, 2, False\n",
      "('Judit', 'Israel', 'Granny')\n",
      "(1, 2, 0)\n"
     ]
    }
   ],
   "source": [
    "list1 = [\"Judit\", \"Israel\", \"Granny\"]\n",
    "list2 = [1, 2, 3]\n",
    "list3 = [True, False]\n",
    "\n",
    "tup3 = zip(list1,list2,list3) # Emparella fins que la llista més curta s'acaba\n",
    "print(list(tup3))\n",
    "\n",
    "\n",
    "# zip també permet iterar a la vegada sobre múltiples llistes/tuples...\n",
    "\n",
    "for i, (name,number,status) in enumerate(zip(list1,list2,list3)) :\n",
    "    print(f\"{i}: {name}, {number}, {status}\")\n",
    "\n",
    "# I al revés, extreure una part de manera iterativa\n",
    "listup = [(\"Judit\", 1), (\"Israel\", 2), (\"Granny\",0)]\n",
    "\n",
    "(names, numbers) = zip(*listup)\n",
    "print(names)\n",
    "print(numbers)\n",
    "\n"
   ]
  },
  {
   "cell_type": "markdown",
   "metadata": {},
   "source": [
    "## Concatenar tuples - +"
   ]
  },
  {
   "cell_type": "code",
   "execution_count": 12,
   "metadata": {},
   "outputs": [
    {
     "name": "stdout",
     "output_type": "stream",
     "text": [
      "(1, 'hola', [2, 3, 4], 'b', 'a', 'n', 'a', 'n', 'a')\n",
      "(1, 'hola', [2, 3, 4], 'b', 'a', 'n', 'a', 'n', 'a', 1, 'hola', [2, 3, 4], 'b', 'a', 'n', 'a', 'n', 'a')\n"
     ]
    }
   ],
   "source": [
    "conct = tupl1 + tupc1\n",
    "print(conct)\n",
    "\n",
    "# Multiplying a tuple by an integer, as with lists, has the effect of concatenating together that many copies of the tuple\n",
    "\n",
    "conct2 = conct * 2\n",
    "print(conct2)\n"
   ]
  },
  {
   "cell_type": "code",
   "execution_count": 6,
   "metadata": {},
   "outputs": [
    {
     "name": "stdout",
     "output_type": "stream",
     "text": [
      "[('e', 165), ('a', 147), ('s', 115), ('r', 81), ('i', 77), ('n', 73), ('t', 72), ('l', 65), ('o', 58), ('u', 48), ('c', 38), ('p', 36), ('m', 35), ('d', 34), ('b', 23), ('q', 18), ('f', 18), ('v', 14), ('g', 10), ('x', 10), ('h', 8), ('j', 6), ('k', 2), ('ç', 2), ('z', 1), ('w', 1), ('y', 1)]\n"
     ]
    }
   ],
   "source": [
    "# Escribe un programa que lee un archivo e imprime las letras en order decreciente de frecuencia. El programa debe convertir todas las entradas a minúsculas y contar solamente las letras a-z.\n",
    "# El programa no debe contar espacios, dígitos, signos de puntuación, o cualquier cosa que no sean las letras a-z. Encuentra ejemplos de texto en idiomas  diferentes, y observa cómo la frecuencia de letras es diferente en cada idioma. Compara tus resultados con las tablas en https://es.wikipedia.org/wiki/Frecuencia_de_aparici%C3%B3n_de_letras.\n",
    "\n",
    "import sys\n",
    "import string\n",
    "\n",
    "file = input(\"Indica el nom de l'arxiu: \")\n",
    "if len(file) < 1 :  # Si faig intro quan em demana el nom de l'arxiu, com que té lingitud menor a 1, m'agafa per defecte text_catala.txt\n",
    "    file = open(\"text_catala.txt\")\n",
    "else :\n",
    "    try :\n",
    "        file = open(file,\"r\")\n",
    "    except :\n",
    "        print(\"No s'ha pogut trobar l'arxiu:\", file)\n",
    "        sys.exit()\n",
    "\n",
    "lletres = dict()\n",
    "\n",
    "for line in file :\n",
    "    line = line.rstrip()\n",
    "    line = line.translate(line.maketrans(\"\",\"\",string.punctuation))\n",
    "    line = line.translate(line.maketrans(\"\",\"\",string.digits))\n",
    "    line = line.translate(line.maketrans(\"\",\"\",string.whitespace))\n",
    "    line = line.lower()\n",
    "    line = line.translate(line.maketrans(\"áàéèíïóòúü\",\"aaeeiioouu\"))\n",
    "    for letter in line :\n",
    "        lletres[letter] = lletres.get(letter,0) + 1\n",
    "\n",
    "# Veure la secció dictionaries per com usar la funció SORTED per ordenar diccionaris, els quals cal expressar prèviament com a llistes amb dictionari.items(), \n",
    "# una llista plena de 2-tuples (key-value). Aquestes tuples es poden voler ordenar per Key o per Value.\n",
    "\n",
    "sort_lletres = sorted(lletres.items(), key=lambda x: x[1], reverse=True) \n",
    "\n",
    "print(sort_lletres)"
   ]
  }
 ],
 "metadata": {
  "kernelspec": {
   "display_name": "Python 3.8.9 64-bit",
   "language": "python",
   "name": "python3"
  },
  "language_info": {
   "codemirror_mode": {
    "name": "ipython",
    "version": 3
   },
   "file_extension": ".py",
   "mimetype": "text/x-python",
   "name": "python",
   "nbconvert_exporter": "python",
   "pygments_lexer": "ipython3",
   "version": "3.8.9"
  },
  "orig_nbformat": 4,
  "vscode": {
   "interpreter": {
    "hash": "31f2aee4e71d21fbe5cf8b01ff0e069b9275f58929596ceb00d14d90e3e16cd6"
   }
  }
 },
 "nbformat": 4,
 "nbformat_minor": 2
}
