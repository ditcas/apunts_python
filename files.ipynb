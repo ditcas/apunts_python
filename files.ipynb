{
 "cells": [
  {
   "cell_type": "markdown",
   "metadata": {},
   "source": [
    "# Files"
   ]
  },
  {
   "cell_type": "markdown",
   "metadata": {},
   "source": [
    "**Índex**\n",
    "\n",
    "1. [Python file modes](#id0)\n",
    "\n",
    "2. [Obrir un arxiu - file = open(\"nom\", \"mode d'obertura\")](#id1)\n",
    "\n",
    "3. [Recórrer les línies d'un arxiu - for line in file :](#id2)\n",
    "\n",
    "4. [Guardar el text en una variable, transformant-lo a string. - file.read()](#id3)\n",
    "\n",
    "5. [Buscar en un arxiu - line.startswith() / in line](#id4)\n",
    "\n",
    "6. [Escriure en un arxiu - file = open(\"nom\", \"w\")](#id6)\n",
    "\n",
    "7. [Altres methods](#id7)"
   ]
  },
  {
   "cell_type": "markdown",
   "metadata": {},
   "source": [
    "<div id='id0' />\n",
    "\n",
    "# Python file modes\n",
    "\n",
    "- \"r\" llegir\n",
    "- \"r+\"\" llegir i escriure (l'arxiu ha d'estar creat)\n",
    "- \"w\" sobreescriure (si no està creat l'arxiu, el crea. Si està creat, esborra el contingut previ i escriu el nou)\n",
    "- \"x\" crea un nou arxiu, però dóna error si l'arxiu demanat ja existia.\n",
    "- \"a\" afegir text al final. (si no està creat l'arxiu, el crea.)"
   ]
  },
  {
   "cell_type": "markdown",
   "metadata": {},
   "source": [
    "<div id='id1' />\n",
    "\n",
    "# Obrir un arxiu - file = open(\"nom\", \"mode d'obertura\")\n",
    "\n",
    "Els dos arguments són una string amb el nom de l'arxiu i el mode d'obertura, el qual és opcional. \"r\" per llegir l'arxiu, \"w\" per escriure-hi. Hi ha combinacions d'ambdós."
   ]
  },
  {
   "cell_type": "code",
   "execution_count": 6,
   "metadata": {},
   "outputs": [
    {
     "name": "stdout",
     "output_type": "stream",
     "text": [
      "<_io.TextIOWrapper name='mail.txt' mode='r' encoding='UTF-8'>\n"
     ]
    }
   ],
   "source": [
    "file = open(\"mail.txt\",\"r\") \n",
    "\n",
    "print(file) # No imprimeix los datos sinó una línea amb informació del document.\n",
    "\n",
    "# Igual d'important és obrir-lo que TANCAR-LO\n",
    "\n",
    "file.close()\n",
    "\n",
    "# Si no volem pensar en tancar-lo, podem obrir-lo de la següent manera. En quan s'acaba el bloc with es tanca automàticament l'arxiu.\n",
    "\n",
    "# with open(\"mail.txt\", \"r\") as file :\n",
    "#    bla bla bla"
   ]
  },
  {
   "cell_type": "markdown",
   "metadata": {},
   "source": [
    "Comprovar que tenim permisos per obrir l'arxiu en la modalitat demanada.\n",
    "\n",
    "```python\n",
    "try :\n",
    "    handle = open(filename,\"r\") # Obre l'arxiu en mode lectura\n",
    "except OSError as err : # Guarda la frase del tipus d'error a err\n",
    "    print(f\"OS error: {err}\") # Mostra el tipus d'error\n",
    "    raise SystemExit # Exit del programa\n",
    "```"
   ]
  },
  {
   "cell_type": "markdown",
   "metadata": {},
   "source": [
    "<div id='id2' />\n",
    "\n",
    "# Recórrer les línies d'un arxiu - for line in file :"
   ]
  },
  {
   "cell_type": "code",
   "execution_count": 5,
   "metadata": {},
   "outputs": [
    {
     "name": "stdout",
     "output_type": "stream",
     "text": [
      "From judit@trapella.com to israel@trapella.com\n",
      "24 desembre 2021 12:22\n",
      "Hola momeu. Tatimo molt trapella.\n",
      "L'arxiu té 3 línies.\n"
     ]
    }
   ],
   "source": [
    "file = open(\"mail.txt\",\"r\") \n",
    "\n",
    "count = 0\n",
    "\n",
    "for line in file :\n",
    "    count = count + 1 # Va comptant les línies del text.\n",
    "    line = line.rstrip() # Com que la funció print fa per defecte un \"intro\" al final, i el file també té un intro al final de cada frase, elimino l'intro del file perquè sinó surt doble intro.\n",
    "    print(line) # va imprimint cada línea. \n",
    "print(\"L'arxiu té\", count, \"línies.\")\n",
    "\n",
    "# Amb una list comprehension podem reccórrer l'arxiu i posar-lo en una llista.\n",
    "\n",
    "#lines = [line.rstrip() for line in file]\n",
    "#print(lines)\n",
    "\n",
    "file.seek(0) # L'apuntador del text es troba al final de l'arxiu després de recórre'l. Cal tornar-lo a posar a l'inici.\n",
    "\n",
    "file.close()"
   ]
  },
  {
   "cell_type": "markdown",
   "metadata": {},
   "source": [
    "<div id='id3' />\n",
    "\n",
    "# Guardar el text en una variable, transformant-lo a string. - file.read()"
   ]
  },
  {
   "cell_type": "code",
   "execution_count": 4,
   "metadata": {},
   "outputs": [
    {
     "name": "stdout",
     "output_type": "stream",
     "text": [
      "From judit@trapella.com to israel@trapella.com\n",
      "24 desembre 2021 12:22\n",
      "Hola momeu. Tatimo molt trapella.\n",
      "\n",
      "L'arxiu té 104 caràcters\n"
     ]
    }
   ],
   "source": [
    "file = open(\"mail.txt\",\"r\") \n",
    "\n",
    "inp = file.read()\n",
    "print(inp)\n",
    "print(\"L'arxiu té\", len(inp), \"caràcters\") #Compta els caràcters de l'string. L'intro compta com un caràcter.\n",
    "\n",
    "file.close()"
   ]
  },
  {
   "cell_type": "code",
   "execution_count": 7,
   "metadata": {},
   "outputs": [
    {
     "name": "stdout",
     "output_type": "stream",
     "text": [
      "FROM JUDIT@TRAPELLA.COM TO ISRAEL@TRAPELLA.COM\n",
      "24 DESEMBRE 2021 12:22\n",
      "HOLA MOMEU. TATIMO MOLT TRAPELLA.\n",
      "\n"
     ]
    }
   ],
   "source": [
    "# Escribe un programa que lea un archivo e imprima su contenido todo en mayúsculas.\n",
    "\n",
    "import sys\n",
    "\n",
    "file = input(\"Indica el nom de l'arxiu: \")\n",
    "try :\n",
    "    file = open(file,\"r\")\n",
    "except :\n",
    "    print(\"No s'ha pogut trobar l'arxiu: \", file)\n",
    "    sys.exit()\n",
    "\n",
    "fhandle = file.read()\n",
    "fhandleup = fhandle.upper()\n",
    "print(fhandleup)\n",
    "\n",
    "file.close()"
   ]
  },
  {
   "cell_type": "markdown",
   "metadata": {},
   "source": [
    "<div id='id4' />\n",
    "\n",
    "# Buscar en un arxiu - line.startswith() / in line"
   ]
  },
  {
   "cell_type": "code",
   "execution_count": 9,
   "metadata": {},
   "outputs": [
    {
     "name": "stdout",
     "output_type": "stream",
     "text": [
      "From judit@trapella.com to israel@trapella.com\n",
      "From judit@trapella.com to israel@trapella.com\n",
      "Hola momeu. Tatimo molt trapella.\n"
     ]
    }
   ],
   "source": [
    "file = open(\"mail.txt\",\"r\") \n",
    "\n",
    "for line in file :\n",
    "    if line.startswith(\"From\") :\n",
    "        line = line.rstrip()\n",
    "        print(line)\n",
    "\n",
    "file.seek(0)\n",
    "\n",
    "# Manera alternativa de fer exercici anterior, on el codi del que volem fer queda al final i per tant estèticament pot ser millor\n",
    "\n",
    "for line in file :\n",
    "    if not line.startswith(\"From\") :\n",
    "        continue\n",
    "    line = line.rstrip()\n",
    "    print(line)\n",
    "\n",
    "file.seek(0)\n",
    "\n",
    "# Buscar i seleccionar línies que continguin una string concreta amb la comanda \"in\"\n",
    "for line in file :\n",
    "    if not \"momeu\" in line :\n",
    "        continue\n",
    "    line = line.rstrip()\n",
    "    print(line)\n",
    "\n",
    "file.close()"
   ]
  },
  {
   "cell_type": "code",
   "execution_count": 11,
   "metadata": {},
   "outputs": [
    {
     "name": "stdout",
     "output_type": "stream",
     "text": [
      "Promig Spam Confidence 0.8941280467445736\n"
     ]
    }
   ],
   "source": [
    "# Escribe un programa que solicite un nombre de archivo y después lea ese archivo buscando las líneas que tengan la siguiente forma:X-DSPAM-Confidence: 0.8475 **Cuando encuentres una línea que comience con “X-DSPAM-Confidence:” ponla aparte para extraer el número decimal de la línea. Cuenta esas líneas y después calcula el total acumulado de los valores de “spam-confidence”. Cuando llegues al final del archivo, imprime el valor medio de “spam confidence”.\n",
    "\n",
    "import sys\n",
    "\n",
    "def identificador(str,marcador) : #donada una string i un marcador, extreu la subcadena (codi) posterior al marcador i la converteix en un float.\n",
    "    posmarcador = str.find(marcador)\n",
    "    if posmarcador == -1 :\n",
    "            sys.exit(\"Error. No s'ha pogut trobar el marcador\")\n",
    "    try :        \n",
    "        codi = float(str[posmarcador+20:posmarcador+26])\n",
    "        return codi\n",
    "    except :\n",
    "        sys.exit(\"Error en transformar string to float\")\n",
    "\n",
    "\n",
    "file = input(\"Indica el nom de l'arxiu: \") #mbox.txt\n",
    "try :\n",
    "    file = open(file,\"r\")\n",
    "except :\n",
    "    print(\"No s'ha pogut trobar l'arxiu:\", file)\n",
    "    sys.exit()\n",
    "\n",
    "count = 0\n",
    "sumatori = 0\n",
    "\n",
    "# Si considerem que l'expressió \"X-DSPAM-Confidence: codi\" està pel mig de la línea. Aleshores en la funció \"identificador\" cal \"codi = float(str[posmarcador+20:posmarcador+26])\"\n",
    "\n",
    "for line in file :\n",
    "    if not \"X-DSPAM-Confidence:\" in line :\n",
    "        continue\n",
    "    count = count + 1\n",
    "    sumatori = sumatori + identificador(line,\"X-DSPAM-Confidence:\")\n",
    "\n",
    "\n",
    "# Si considerem que la frase comença i únicament conté \"X-DSPAM-Confidence: codi\". Aleshores en la funció \"identificador\" cal \"codi = float(str[posmarcador+2:])\" +2 perquè després del marcador \":\" hi ha un espai\n",
    "\n",
    "#for line in file :\n",
    "#    if not line.startswith(\"X-DSPAM-Confidence:\") :\n",
    "#        continue\n",
    "#    count = count + 1\n",
    "#    sumatori = sumatori + identificador(line,\":\")\n",
    "\n",
    "print(\"Promig Spam Confidence\", sumatori/count)\n",
    "\n",
    "file.close()"
   ]
  },
  {
   "cell_type": "code",
   "execution_count": null,
   "metadata": {},
   "outputs": [],
   "source": [
    "# Algunas veces cuando los programadores se aburren o quieren divertirse un poco, agregan un inofensivo Huevo de Pascua a su programa. Modifica el programa que pregunta al usuario por el nombre de archivo para que imprima un mensaje divertido cuando el usuario escriba “na na boo boo” como nombre de archivo.\n",
    "\n",
    "import sys\n",
    "\n",
    "def identificador(str,marcador) :\n",
    "    posmarcador = str.find(marcador)\n",
    "    if posmarcador == -1 :\n",
    "            sys.exit(\"Error. No s'ha pogut trobar el marcador\")\n",
    "    try :        \n",
    "        codi = float(str[posmarcador+20:posmarcador+26])\n",
    "        return codi\n",
    "    except :\n",
    "        sys.exit(\"Error en transformar string to float\")\n",
    "\n",
    "\n",
    "file = input(\"Indica el nom de l'arxiu: \")\n",
    "try :\n",
    "    file = open(file,\"r\")\n",
    "except :\n",
    "    if file == \"na na boo boo\" :\n",
    "        print(\"NA NA BOO BOO TU! T'HE PILLAT!\")\n",
    "    else :\n",
    "        print(\"No s'ha pogut trobar l'arxiu:\", file)\n",
    "    sys.exit()\n",
    "\n",
    "count = 0\n",
    "sumatori = 0\n",
    "\n",
    "for line in file :\n",
    "    if not \"X-DSPAM-Confidence:\" in line :\n",
    "        continue\n",
    "    count = count + 1\n",
    "    sumatori = sumatori + identificador(line,\"X-DSPAM-Confidence:\")\n",
    "\n",
    "print(\"Promig Spam Confidence\", sumatori/count)\n",
    "\n",
    "file.close()"
   ]
  },
  {
   "cell_type": "markdown",
   "metadata": {},
   "source": [
    "<div id='id6' />\n",
    "\n",
    "# Escriure en un arxiu - file = open(\"nom\", \"w\")"
   ]
  },
  {
   "cell_type": "code",
   "execution_count": 9,
   "metadata": {},
   "outputs": [
    {
     "name": "stdout",
     "output_type": "stream",
     "text": [
      "Tu poesía surge por sí sola\n",
      "en cuanto tú y el objeto se han vuelto uno.\n",
      "Y haciendo así debes soltar cualquier preocupación por ti mismo.\n"
     ]
    }
   ],
   "source": [
    "file = open(\"sortida.txt\",\"w\")\n",
    "\n",
    "lines = [\"Tu poesía surge por sí sola\\n\", \"en cuanto tú y el objeto se han vuelto uno.\"]\n",
    "file.writelines(lines)\n",
    "file.close()\n",
    "\n",
    "# Equivalent: Línea a línea\n",
    "\n",
    "#line1 = \"Tu poesía surge por sí sola\\n\"\n",
    "#file.write(line1)\n",
    "#line2 = \"en cuanto tú y el objeto se han vuelto uno.\"\n",
    "#file.write(line2)\n",
    "#file.close()\n",
    "\n",
    "file = open(\"sortida.txt\",\"a\")\n",
    "line3 = \"\\nY haciendo así debes soltar cualquier preocupación por ti mismo.\"\n",
    "file.write(line3)\n",
    "file.close()\n",
    "\n",
    "file = open(\"sortida.txt\",\"r\")\n",
    "text = file.read()\n",
    "print(text)\n",
    "file.close()"
   ]
  },
  {
   "cell_type": "markdown",
   "metadata": {},
   "source": [
    "<div id='id7' />\n",
    "\n",
    "# Altres methods\n",
    "\n",
    ".read([size]) - Return data from file as a string, with optional size argument indicating the number of bytes to read.\n",
    "\n",
    ".readlines([size]) - Return list of lines in the file, with optional size argument.\n",
    "\n",
    ".seek(pos) - Move to indicated file position (integer)\n",
    "\n",
    ".tell() - Return current file position as integer\n",
    "\n",
    "closed - True if the file is closed."
   ]
  },
  {
   "cell_type": "markdown",
   "metadata": {},
   "source": [
    "Extra: Cuando estás leyendo y escribiendo archivos, puedes tener problemas con los espacios en blanco. Esos errores pueden ser difíciles de depurar debido a que los espacios, tabuladores, y saltos de línea son invisibles normalmente. La función nativa repr puede ayudarte. Recibe cualquier objeto como argumento y devuelve una representación del objeto como una cadena. En el caso de las cadenas, representa los espacios en blanco con secuencias de barras invertidas. Otro problema que podrías tener es que diferentes sistemas usan diferentes caracteres para indicar el final de una línea. \\n, \\r ... Para la mayoría de los sistemas, hay aplicaciones que convierten de un formato a otro."
   ]
  }
 ],
 "metadata": {
  "kernelspec": {
   "display_name": "Python 3.8.9 64-bit",
   "language": "python",
   "name": "python3"
  },
  "language_info": {
   "codemirror_mode": {
    "name": "ipython",
    "version": 3
   },
   "file_extension": ".py",
   "mimetype": "text/x-python",
   "name": "python",
   "nbconvert_exporter": "python",
   "pygments_lexer": "ipython3",
   "version": "3.8.9"
  },
  "orig_nbformat": 4,
  "vscode": {
   "interpreter": {
    "hash": "31f2aee4e71d21fbe5cf8b01ff0e069b9275f58929596ceb00d14d90e3e16cd6"
   }
  }
 },
 "nbformat": 4,
 "nbformat_minor": 2
}
