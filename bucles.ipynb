{
 "cells": [
  {
   "cell_type": "markdown",
   "metadata": {},
   "source": [
    "# Bucles"
   ]
  },
  {
   "cell_type": "markdown",
   "metadata": {},
   "source": [
    "**Índex**\n",
    "\n",
    "1. [Infinite loop](#id1)\n",
    "\n",
    "2. [Definite loop](#id2)"
   ]
  },
  {
   "cell_type": "markdown",
   "metadata": {},
   "source": [
    "<div id='id1' />\n",
    "\n",
    "# Infinite loop\n",
    "\n",
    "```plain\n",
    "while ____ :\n",
    "    _________\n",
    "```\n",
    "\n",
    "Bucle que s'executa indefinidament mentre la condició es compleix. \n",
    "\n",
    "O bé, si usem \"while True : \" \n",
    "\n",
    "s'executaria indefinidament si no fos perquè en el codi s'hi introdueix un \"break\".\n",
    "\n",
    "- The continue statement ends the current iteration and jumps to the top of the loop and starts next iteration.\n",
    "- The break statement ends the current loop and jumps to the statement immediately following the loop. It's also like a loop test that can happen anywhere in the body of the loop.\n",
    "\n",
    "En el següent exemple, el bucle es va executant mentre no s'escriu la paraula \"done\". \n",
    "\n",
    "El programa demana escriure alguna cosa a la consola, i la imprimeix, excepte si comença per #, aleshores no fa el print, sinó que torna a iniciar.\n"
   ]
  },
  {
   "cell_type": "code",
   "execution_count": 1,
   "metadata": {},
   "outputs": [
    {
     "name": "stdout",
     "output_type": "stream",
     "text": [
      "hola\n",
      "com estàs?\n",
      "fet!\n"
     ]
    }
   ],
   "source": [
    "while True:\n",
    "    line = input(\"> \")\n",
    "    if line[0] == \"#\" :\n",
    "        continue \n",
    "    if line == \"done\" :\n",
    "        break \n",
    "    print(line) # per defecte el programa imprimeix la línea escrita.\n",
    "print(\"fet!\")"
   ]
  },
  {
   "cell_type": "code",
   "execution_count": null,
   "metadata": {},
   "outputs": [],
   "source": [
    "# Escribe un programa que lea repetidamente números hasta que el usuario introduzca “fin”. Una vez se haya introducido “fin”, muestra por pantalla el sumatori, la cantidad de números y la media de esos números. Si el usuario introduce cualquier otra cosa que no sea un número, detecta su fallo usando try y except, muestra un mensaje de error y pasa al número siguiente.\n",
    "\n",
    "def mitjana(sumatori, quantitat) :\n",
    "    if quantitat == 0 :\n",
    "        return 0\n",
    "\n",
    "    return round(sumatori / quantitat, 3)\n",
    "\n",
    "sumatori = 0\n",
    "quantitat = 0\n",
    "\n",
    "while True :\n",
    "\n",
    "    numero = input(\"Introdueixi un número o teclegi la paraula fi per acabar: \")\n",
    "\n",
    "    if numero == \"fi\" :\n",
    "        break\n",
    "\n",
    "    try : \n",
    "        numero = float(numero)\n",
    "    except :\n",
    "        print(\"Error, per favor introdueixi un valor numèric.\")\n",
    "        continue\n",
    "\n",
    "    quantitat = quantitat + 1\n",
    "    sumatori = sumatori + numero\n",
    "\n",
    "\n",
    "print(\"La suma dels valors introduits és\", sumatori, \"d'un total de\", quantitat, \"números. La mitjana aritmètica és\", mitjana(sumatori, quantitat))"
   ]
  },
  {
   "cell_type": "code",
   "execution_count": 7,
   "metadata": {},
   "outputs": [
    {
     "name": "stdout",
     "output_type": "stream",
     "text": [
      "El valor més gran introduit és el 4.0 i el més petit és el 4.0\n"
     ]
    }
   ],
   "source": [
    "# Escribe otro programa que pida una lista de números como la anterior y al final muestre por pantalla el máximo y mínimo de los números, en vez de la media.\n",
    "\n",
    "gran = None\n",
    "petit = None\n",
    "\n",
    "while True :\n",
    "\n",
    "    numero = input(\"Introdueixi un número o teclegi la paraula fi per acabar: \")\n",
    "\n",
    "    if numero == \"fi\" :\n",
    "        break\n",
    "\n",
    "    try : \n",
    "        numero = float(numero)\n",
    "    except :\n",
    "        print(\"Error, per favor introdueixi un valor numèric.\")\n",
    "        continue\n",
    "\n",
    "    if gran is None and petit is None : # El primer valor que s'introdueix es guarda a gran i petit. Només s'executa la primera vegada.\n",
    "        gran = petit = numero\n",
    "    if numero > gran :\n",
    "        gran = numero\n",
    "    if numero < petit :\n",
    "        petit = numero\n",
    "\n",
    "if gran != None :\n",
    "    print(\"El valor més gran introduit és el\", gran, \"i el més petit és el\", petit)"
   ]
  },
  {
   "cell_type": "markdown",
   "metadata": {},
   "source": [
    "<div id='id2' />\n",
    "\n",
    "# Definite loop\n",
    "\n",
    "```plain\n",
    "for ____ in ____ :\n",
    "\n",
    "```"
   ]
  },
  {
   "cell_type": "code",
   "execution_count": 3,
   "metadata": {},
   "outputs": [
    {
     "name": "stdout",
     "output_type": "stream",
     "text": [
      "9 9\n",
      "9 41\n",
      "9 12\n",
      "3 3\n",
      "3 74\n",
      "3 15\n",
      "El valor més petit és el 3\n"
     ]
    }
   ],
   "source": [
    "# Retorna el valor més petit de la llista\n",
    "\n",
    "llista = [9, 41, 12, 3, 74, 15]\n",
    "petit = llista[0]\n",
    "\n",
    "for numero in llista : #Per cada un dels elements de la llista\n",
    "    if numero < petit :\n",
    "        petit = numero\n",
    "#    print(petit, numero)\n",
    "\n",
    "print(\"El valor més petit és el\", petit)"
   ]
  }
 ],
 "metadata": {
  "kernelspec": {
   "display_name": "Python 3.8.9 64-bit",
   "language": "python",
   "name": "python3"
  },
  "language_info": {
   "codemirror_mode": {
    "name": "ipython",
    "version": 3
   },
   "file_extension": ".py",
   "mimetype": "text/x-python",
   "name": "python",
   "nbconvert_exporter": "python",
   "pygments_lexer": "ipython3",
   "version": "3.9.6"
  },
  "orig_nbformat": 4,
  "vscode": {
   "interpreter": {
    "hash": "31f2aee4e71d21fbe5cf8b01ff0e069b9275f58929596ceb00d14d90e3e16cd6"
   }
  }
 },
 "nbformat": 4,
 "nbformat_minor": 2
}
