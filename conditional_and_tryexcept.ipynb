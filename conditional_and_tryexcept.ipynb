{
 "cells": [
  {
   "cell_type": "markdown",
   "metadata": {},
   "source": [
    "# Conditional\n",
    "\n",
    "## if i else\n",
    "\n",
    "```plain\n",
    "if _____ :\n",
    "    _________\n",
    "else :\n",
    "    _________\n",
    "```\n",
    "\n",
    "- Posar en l'if el cas més plausible.\n",
    "- Posar l'else és opcional.\n",
    "\n",
    "## if i elif\n",
    "Només executarà UNA de les opcions, i executarà la PRIMERA que trobi que sigui certa. Si després n'hi ha més que es compleixen, és igual, ja no hi entra. SI, SI NO, SI NO, SI NO...\n",
    "Si posem l'else al final (és opcional) i no ha executat l'if ni els elif, executarà l'else.\n",
    "\n",
    "```plain\n",
    "if ____ :\n",
    "    ________\n",
    "elif ____ :\n",
    "    ________\n",
    "elif ____ :\n",
    "    ________\n",
    "else :\n",
    "    ________\n",
    "```"
   ]
  },
  {
   "cell_type": "markdown",
   "metadata": {},
   "source": [
    "## Try i except - Llibreria sys\n",
    "\n",
    "S'utilitza per filtrar entrades d'input per part de l'usuari. No pots fiar-te mai de l'usuari. \n",
    "\n",
    "Al principi, posar sempre totes les comprovacions d'allò que pot portar a error.\n",
    "\n",
    "```python\n",
    "try : \n",
    "    \"Prova de fer una acció\"\n",
    "except :\n",
    "    \"En cas que doni error en executar l'acció, realitza el que s'indica aquí.\"\n",
    "```\n",
    "\n",
    "Per exemple, sortir del programa: raise SystemExit\n",
    "\n",
    "Si volem que es mostri un missatge del sistema indicant el tipus d'error, afegim:\n",
    "\n",
    "except ValueError:\n",
    "\n",
    "except TypeError:\n",
    "\n",
    "except OSError:\n",
    "\n",
    "except (TypeError, ValueError):\n",
    "\n",
    "except OSError as err : # Guarda la frase del tipus d'error a err\n",
    "    print(f\"OS error: {err}\") # Mostra el tipus d'error\n",
    "    raise SystemExit\n",
    "\n",
    "A més, podem afegir codi que es pot executar de la manera següent:\n",
    "\n",
    "```python\n",
    "try : \n",
    "    \"Prova de fer una acció\"\n",
    "except :\n",
    "    \"En cas que doni error en executar l'acció, realitza el que s'indica aquí.\"\n",
    "else :\n",
    "    \"S'executarà només si el bloc de try funciona\"\n",
    "finally :\n",
    "    \"S'executarà tant si el try funciona com si no\"\n",
    "```"
   ]
  },
  {
   "cell_type": "code",
   "execution_count": 3,
   "metadata": {},
   "outputs": [
    {
     "name": "stdout",
     "output_type": "stream",
     "text": [
      "Salari: 55.0 €\n"
     ]
    }
   ],
   "source": [
    "# Reescribe el programa del cálculo del salario para darle al empleado 1.5 veces la tarifa horaria para todas las horas trabajadas que excedan de 40\n",
    "\n",
    "import sys \n",
    "\n",
    "hores = input(\"Introdueix les hores: \")\n",
    "try : \n",
    "    hores = float(hores)\n",
    "except :\n",
    "    sys.exit(\"Error, per favor introdueixi un valor numèric.\") # Comprova que l'usuari ha introduit un valor numèric.\n",
    "\n",
    "preu_hora = input(\"Introdueix la tarifa per hora: \")\n",
    "try: \n",
    "    preu_hora = float(preu_hora)\n",
    "except :\n",
    "    sys.exit(\"Error, per favor introdueixi un valor numèric.\")\n",
    "\n",
    "jornada_base = 40\n",
    "\n",
    "if hores <= jornada_base :  # el cas més plausible, que és no fer hores extres.\n",
    "    salari = hores * preu_hora\n",
    "else :\n",
    "    hores_extres = hores - jornada_base\n",
    "    salari_base = jornada_base * preu_hora\n",
    "    salari_extra = hores_extres * 1.5 * preu_hora\n",
    "    salari = salari_base + salari_extra\n",
    "\n",
    "salari_arrodonit = round(salari, 3)\n",
    "\n",
    "print(f\"Salari: {salari_arrodonit}€\")"
   ]
  },
  {
   "cell_type": "code",
   "execution_count": 6,
   "metadata": {},
   "outputs": [
    {
     "name": "stdout",
     "output_type": "stream",
     "text": [
      "Excel·lent\n"
     ]
    }
   ],
   "source": [
    "# Escribe un programa que solicite una puntuación entre 0.0 y 1.0. Si la puntuación está fuera de ese rango, muestra un mensaje de error. Si la puntuación está entre 0.0 y 1.0, muestra la calificación usando la tabla siguiente:\n",
    "import sys\n",
    "\n",
    "puntuacio = input(\"Introdueixi la puntuació entre 0.0 i 1.0: \")\n",
    "try :\n",
    "    puntuacio = float(puntuacio)\n",
    "except :\n",
    "    sys.exit(\"Puntuació incorrecta. Introdueixi un valor numèric.\")\n",
    "\n",
    "if puntuacio > 1.0 or puntuacio < 0.0 :\n",
    "    print(\"Error. La puntuació està fora del rang.\")\n",
    "elif puntuacio < 0.6 :\n",
    "    print(\"Insuficient\")\n",
    "elif puntuacio < 0.7 :\n",
    "    print(\"Suficient\")\n",
    "elif puntuacio < 0.8 :\n",
    "    print(\"Bé\")\n",
    "elif puntuacio < 0.9 :\n",
    "    print(\"Notable\")\n",
    "else :\n",
    "    print(\"Excel·lent\")\n",
    "#elif puntuacio <= 1.0 :  Equivalent a l'else, però lleugerament menys eficient perquè li demanem una comprovació.\n",
    "#    print(\"Excel·lent\")"
   ]
  }
 ],
 "metadata": {
  "kernelspec": {
   "display_name": "Python 3.8.9 64-bit",
   "language": "python",
   "name": "python3"
  },
  "language_info": {
   "codemirror_mode": {
    "name": "ipython",
    "version": 3
   },
   "file_extension": ".py",
   "mimetype": "text/x-python",
   "name": "python",
   "nbconvert_exporter": "python",
   "pygments_lexer": "ipython3",
   "version": "3.8.9"
  },
  "orig_nbformat": 4,
  "vscode": {
   "interpreter": {
    "hash": "31f2aee4e71d21fbe5cf8b01ff0e069b9275f58929596ceb00d14d90e3e16cd6"
   }
  }
 },
 "nbformat": 4,
 "nbformat_minor": 2
}
