{
 "cells": [
  {
   "cell_type": "markdown",
   "metadata": {},
   "source": [
    "# Comandes bàsiques"
   ]
  },
  {
   "cell_type": "markdown",
   "metadata": {},
   "source": [
    "**Índex**\n",
    "\n",
    "1. [Assignació](#id1)\n",
    "\n",
    "    1.1 [Assignar una constant](#id11)\n",
    "    \n",
    "2. [Tipus de variables i com saber-lo](#id2)\n",
    "\n",
    "    2.1 [None](#id21)\n",
    "\n",
    "3. [Expressions numèriques (operacions)](#id3)\n",
    "4. [Comanda INPUT i cadenes F (formato)](#id4)\n",
    "5. [Operadors de comparació](#id5)\n",
    "6. [Ajuda](#id6)\n",
    "7. [Dues referències pel mateix objecte](#id7)\n",
    "8. [Importar variables o funcions d'un altre arxiu](#id8)\n",
    "9. [Data i hora](#id9)"
   ]
  },
  {
   "cell_type": "markdown",
   "metadata": {},
   "source": [
    "<div id='id1' />\n",
    "\n",
    "# Assignació\n",
    "\n",
    "Un = no significa igualtat d'expressions com en matemàtiques, sinó que significa ASSIGNACIÓ, és a dir, que primer executa l'expressió de la dreta i després la guarda a la variable de l'esquerra. \n",
    "\n",
    "El valor guardat pot ser actualitzat reemplaçant el valor antic per un de nou."
   ]
  },
  {
   "cell_type": "code",
   "execution_count": 3,
   "metadata": {},
   "outputs": [
    {
     "name": "stdout",
     "output_type": "stream",
     "text": [
      "6\n"
     ]
    }
   ],
   "source": [
    "x = 5\n",
    "x = x+1\n",
    "print(x)"
   ]
  },
  {
   "cell_type": "markdown",
   "metadata": {},
   "source": [
    "<div id='id11' />\n",
    "\n",
    "## Assignar una constant\n",
    "Quan una variable volem indicar que el seu valor es consideri com una constant i per tant no s'alteri al llarg del programa, ho marcarem estèticament posant el nom de la variable tot en majúscules. Python no té tipologies de constants integrades, tot són variables."
   ]
  },
  {
   "cell_type": "code",
   "execution_count": 4,
   "metadata": {},
   "outputs": [],
   "source": [
    "CONSTANT_MAX = 5000"
   ]
  },
  {
   "cell_type": "markdown",
   "metadata": {},
   "source": [
    "<div id='id2' />\n",
    "\n",
    "# Tipus de variables i com saber-lo\n",
    "\n",
    "Cadena de text - string\n",
    "\n",
    "Enter - int\n",
    "\n",
    "Decimal - float\n",
    "\n",
    "Boolean - bool\n",
    "\n",
    "\n",
    "\n",
    "- N'hi ha d'altres, combinació d'aquests.\n",
    "- Si en una expressió hi ha un int i un float barrejats, la resposta sempre estarà en format float.\n",
    "- Podem escriure valors grans separant les xifres amb guió baix per veure-ho millor, no afecta a Python:\n",
    "10000000000 és el mateix que 10_000_000_000\n",
    "- Es pot convertir un tipus a int o float usant les funcions int() i float(). OJO, si convertim una string a int o float i conté lletres, donarà error. De float a int usem round() perquè arrodoneix i passa a int a la vegada."
   ]
  },
  {
   "cell_type": "code",
   "execution_count": 6,
   "metadata": {},
   "outputs": [
    {
     "name": "stdout",
     "output_type": "stream",
     "text": [
      "<class 'str'>\n",
      "<class 'int'>\n",
      "<class 'float'>\n",
      "42.0\n",
      "Type inicial:  <class 'str'>\n",
      "Type després de float():  <class 'float'>\n",
      "123.0\n"
     ]
    }
   ],
   "source": [
    "cadena = \"Hello world\"\n",
    "print(type(cadena))\n",
    "x = 1\n",
    "print(type(x))\n",
    "x = 98.6\n",
    "print(type(x))\n",
    "\n",
    "print(float(42))\n",
    "\n",
    "cadena = \"123\" # OJO Si hi ha lletres dóna error.\n",
    "print(\"Type inicial: \", type(cadena))\n",
    "cadena = float(cadena)\n",
    "print(\"Type després de float(): \", type(cadena))\n",
    "print(cadena)"
   ]
  },
  {
   "cell_type": "code",
   "execution_count": 3,
   "metadata": {},
   "outputs": [
    {
     "name": "stdout",
     "output_type": "stream",
     "text": [
      "True\n",
      "True\n"
     ]
    }
   ],
   "source": [
    "a = 4.5\n",
    "print(isinstance(a, float)) # true o false segons si és del tipus marcat\n",
    "b = 'hola'\n",
    "print(isinstance(b, (str,float))) # true o false si és d'algun dels tipus de la tupla"
   ]
  },
  {
   "cell_type": "code",
   "execution_count": 4,
   "metadata": {},
   "outputs": [
    {
     "name": "stdout",
     "output_type": "stream",
     "text": [
      "<class 'str'>\n"
     ]
    }
   ],
   "source": [
    "x = 5\n",
    "if not isinstance(x, str) : # Per transformar si és necessari\n",
    "    x = str(5)\n",
    "print(type(x))"
   ]
  },
  {
   "cell_type": "markdown",
   "metadata": {},
   "source": [
    "<div id='id21' />\n",
    "\n",
    "## None\n",
    "None is the Python null value type. If a function does not explicitly return a value, it implicitly returns None"
   ]
  },
  {
   "cell_type": "markdown",
   "metadata": {},
   "source": [
    "<div id='id3' />\n",
    "\n",
    "# Expressions numèriques (operacions)\n",
    "\n",
    "- \"+\"\n",
    "\n",
    "sumar per int i float\n",
    "\n",
    "concatenar per strings (enganxat, sense espais)\n",
    "\n",
    "- \"-\" , \"*\" , \"/\" , \"//\"\n",
    "\n",
    "restar, multiplicar, dividir, divisió entera. La divisió sempre retorna un float excepte \"//\".\n",
    "\n",
    "- \"**\" \n",
    "\n",
    "potència\n",
    "\n",
    "- \"%\" \n",
    "\n",
    "residu d'una divisió\n",
    "\n",
    "- \"a & b\"\n",
    "\n",
    "True if both a and b are True; for integers, take the bitwise AND\n",
    "\n",
    "- \"a | b\"\n",
    "\n",
    "True if either a or b is True; for integers, take the bitwise OR\n",
    "\n",
    "- \"a^b\"\n",
    "\n",
    "For booleans,TrueifaorbisTrue, but not both; for integers, take the bitwiseEXCLUSIVE-OR\n",
    "\n",
    "- Jerarquia \n",
    "\n",
    "D'esquerra a dreta\n",
    "\n",
    "Parèntesis, potència, * i /, + i -"
   ]
  },
  {
   "cell_type": "code",
   "execution_count": 7,
   "metadata": {},
   "outputs": [
    {
     "name": "stdout",
     "output_type": "stream",
     "text": [
      "Divisio entera: 8 <class 'int'>\n",
      "Divisio: 8.5 <class 'float'>\n",
      "Divisio enter i float: 8.5 <class 'float'>\n",
      "Operacio combinada: 11.0 <class 'float'>\n"
     ]
    }
   ],
   "source": [
    "width = 17\n",
    "print(\"Divisio entera:\", width//2, type(width//2)) \n",
    "print(\"Divisio:\", width/2, type(width/2))\n",
    "print(\"Divisio enter i float:\", width/2.0, type(width/2.0))\n",
    "print(\"Operacio combinada:\", 1+2*5.0, type(1+2*5.0))"
   ]
  },
  {
   "cell_type": "markdown",
   "metadata": {},
   "source": [
    "<div id='id4' />\n",
    "\n",
    "# Comanda INPUT i cadenes F (formato)\n",
    "\n",
    "input() - We can instruct Python to pause and read data from the user. Returns always a string.\n",
    "\n",
    "Method format\n",
    "String objects have a format method that can be used to substitute formatted arguments into the string, producing a new string.\n",
    "\n",
    "string.format\n",
    "\n",
    "equivalent:\n",
    "\n",
    "f\" {} {}\" - Formateja les variables a strings i per tant permet usar-les en una sola cadena."
   ]
  },
  {
   "cell_type": "code",
   "execution_count": 8,
   "metadata": {},
   "outputs": [
    {
     "name": "stdout",
     "output_type": "stream",
     "text": [
      "4.56 Argentine Pesos are worth US$1\n"
     ]
    }
   ],
   "source": [
    "template = \"{0:.2f} {1:s} are worth US${2:d}\"\n",
    "print(template.format(4.5560, 'Argentine Pesos', 1))"
   ]
  },
  {
   "cell_type": "code",
   "execution_count": 5,
   "metadata": {},
   "outputs": [
    {
     "name": "stdout",
     "output_type": "stream",
     "text": [
      "Benvingut/da Judit!\n",
      "Benvingut/da Judit!\n",
      "Benvingut/da Judit!\n",
      "Benvingut/da Judit!\n"
     ]
    }
   ],
   "source": [
    "nom = input(\"El teu nom és: \")\n",
    "\n",
    "print(f\"Benvingut/da {nom}!\") # La millor manera de fer-ho, usar cadenes f.\n",
    "\n",
    "print(\"Benvingut/da\", nom + \"!\")\n",
    "print(\"Benvingut/da\", nom, end = \"!\\n\") # \\n fa el salto de carro. Quan no posem el paràmetre end en un print el salto de carro el fa per defecte.\n",
    "print(\"Benvingut/da \", nom, \"!\", sep = \"\")"
   ]
  },
  {
   "cell_type": "code",
   "execution_count": 9,
   "metadata": {},
   "outputs": [
    {
     "name": "stdout",
     "output_type": "stream",
     "text": [
      "Gross pay: 6.0\n"
     ]
    }
   ],
   "source": [
    "# Write a program to prompt the user for hours and rate per hour to compute gross pay.\n",
    "\n",
    "xh = input(\"How many hours have you done? \")\n",
    "xe = input(\"What's your rate per hour? \")\n",
    "gp = float(xh) * float(xe) # Transforma a float perquè input guarda en string\n",
    "valor_arrodonit = round(gp, 3) # Arrodoneix el valor de gp, a 3 decimals\n",
    "print(f\"Gross pay: {valor_arrodonit}\")"
   ]
  },
  {
   "cell_type": "markdown",
   "metadata": {},
   "source": [
    "<div id='id5' />\n",
    "\n",
    "# Operadors de comparació\n",
    "\n",
    "They look at the variables but do not change the variables\n",
    "\n",
    "- \"<\" less than\n",
    "\n",
    "- \"<=\" less than or equal to\n",
    "\n",
    "- \"==\" equal to\n",
    "\n",
    "- \">=\" greater than or equal to\n",
    "\n",
    "- \">\" greater than\n",
    "\n",
    "- \"!=\" not equal\n",
    "\n",
    "It is also possible to chain comparisons\n",
    "\n",
    "4 > 3 > 2 > 1  # retorna True"
   ]
  },
  {
   "cell_type": "markdown",
   "metadata": {},
   "source": [
    "<div id='id6' />\n",
    "\n",
    "# Ajuda\n",
    "\n",
    "Using a question mark (?) before or after a variable will display some general infor‐ mation about the object. \n",
    "If the object is a function or instance method, the docstring, if defined, will also be shown."
   ]
  },
  {
   "cell_type": "code",
   "execution_count": 3,
   "metadata": {},
   "outputs": [
    {
     "name": "stdout",
     "output_type": "stream",
     "text": [
      "\u001b[0;31mDocstring:\u001b[0m\n",
      "print(value, ..., sep=' ', end='\\n', file=sys.stdout, flush=False)\n",
      "\n",
      "Prints the values to a stream, or to sys.stdout by default.\n",
      "Optional keyword arguments:\n",
      "file:  a file-like object (stream); defaults to the current sys.stdout.\n",
      "sep:   string inserted between values, default a space.\n",
      "end:   string appended after the last value, default a newline.\n",
      "flush: whether to forcibly flush the stream.\n",
      "\u001b[0;31mType:\u001b[0m      builtin_function_or_method\n"
     ]
    }
   ],
   "source": [
    "a = [1,2,3]\n",
    "a?\n",
    "print?"
   ]
  },
  {
   "cell_type": "markdown",
   "metadata": {},
   "source": [
    "<div id='id7' />\n",
    "\n",
    "# Dues referències pel mateix objecte"
   ]
  },
  {
   "cell_type": "code",
   "execution_count": 6,
   "metadata": {},
   "outputs": [
    {
     "name": "stdout",
     "output_type": "stream",
     "text": [
      "[1, 2, 3, 4]\n",
      "True\n",
      "<class 'list'>\n",
      "[1, 2, 3, 4]\n",
      "False\n"
     ]
    }
   ],
   "source": [
    "a = [1,2,3]\n",
    "b = a # ara, a i b apunten al mateix objecte, la mateixa llista.\n",
    "\n",
    "a.append(4)\n",
    "print(b)\n",
    "\n",
    "print(a is b) # true, apunten al mateix objecte\n",
    "\n",
    "c = list(a)\n",
    "print(c)\n",
    "print(c is a) #false, hem generat c fent una còpia d'a, però no apunten al mateix objecte"
   ]
  },
  {
   "cell_type": "markdown",
   "metadata": {},
   "source": [
    "<div id='id8' />\n",
    "\n",
    "# Importar variables o funcions d'un altre arxiu\n",
    "\n",
    "Tenim l'arxiu some_module.py que conté:\n",
    "\n",
    "```python\n",
    "PI = 3.14159 \n",
    "\n",
    "def f(x):\n",
    "    return x+2 \n",
    "    \n",
    "def g(a, b):\n",
    "    return a+b\n",
    "```\n",
    "\n",
    "If we wanted to access the variables and functions defined in some_module.py, from\n",
    "another file in the same directory we could do:\n",
    "\n",
    "```python\n",
    "import some_module as sm\n",
    "result = sm.f(5) \n",
    "pi = sm.PI\n",
    "```\n",
    "\n",
    "o equivalent\n",
    "\n",
    "```python\n",
    "import some_module as sm\n",
    "from some_module import PI as pi, g as gf \n",
    "r1 = sm.f(pi)\n",
    "r2 = sm.gf(6, pi)\n",
    "```\n",
    "\n"
   ]
  },
  {
   "cell_type": "markdown",
   "metadata": {},
   "source": [
    "<div id='id9' />\n",
    "\n",
    "# Data i hora\n",
    "\n",
    "The built-in Python datetime module provides datetime, date, and time types. The datetime type, as you may imagine, combines the information stored in date and time and is the most commonly used.\n",
    "\n",
    "datetime.datetime is an immutable type.\n",
    "\n",
    "The difference of two datetime objects produces a datetime.timedelta type."
   ]
  },
  {
   "cell_type": "code",
   "execution_count": 21,
   "metadata": {},
   "outputs": [
    {
     "name": "stdout",
     "output_type": "stream",
     "text": [
      "2022-08-04 21:01:28\n",
      "<class 'datetime.datetime'>\n",
      "4\n",
      "1\n",
      "2022-08-04\n",
      "21:01:28\n",
      "2022-08-04 21:01:28\n",
      "1989-08-04 21:01:00\n",
      "<class 'datetime.timedelta'>\n",
      "-3915 days, 1:28:32\n",
      "2011-11-15 22:30:00\n"
     ]
    }
   ],
   "source": [
    "from datetime import datetime, date, time\n",
    "\n",
    "dt = datetime(2022, 8, 4, 21, 1, 28)\n",
    "print(dt)\n",
    "print(type(dt))\n",
    "\n",
    "print(dt.day) # method per mostrar el dia\n",
    "print(dt.minute) # method per mostrar el minut\n",
    "print(dt.date()) # method per mostrar només la data\n",
    "print(dt.time()) # method per mostrar només l'hora\n",
    "\n",
    "dt.strftime(\"%d/%m/%Y %H:%M:%S\") # de type datetime a type string\n",
    "\n",
    "datetime.strptime('12041989', '%d%m%Y') # de string a datetime\n",
    "\n",
    "print(dt)\n",
    "print(dt.replace(year = 1989, second=0)) # method canviar valors\n",
    "\n",
    "\n",
    "dt2 = datetime(2011, 11, 15, 22, 30)\n",
    "delta = dt2 - dt # La resta entre dos datetime produeixen un datetime de tipus datetime.timedelta\n",
    "print(type(delta))\n",
    "print(delta)\n",
    "\n",
    "dt2_sum = dt + delta\n",
    "print(dt2_sum) # Podem reconstruir dt2 amb la suma de dt i la diferència."
   ]
  }
 ],
 "metadata": {
  "kernelspec": {
   "display_name": "Python 3.8.9 64-bit",
   "language": "python",
   "name": "python3"
  },
  "language_info": {
   "codemirror_mode": {
    "name": "ipython",
    "version": 3
   },
   "file_extension": ".py",
   "mimetype": "text/x-python",
   "name": "python",
   "nbconvert_exporter": "python",
   "pygments_lexer": "ipython3",
   "version": "3.9.6"
  },
  "orig_nbformat": 4,
  "vscode": {
   "interpreter": {
    "hash": "31f2aee4e71d21fbe5cf8b01ff0e069b9275f58929596ceb00d14d90e3e16cd6"
   }
  }
 },
 "nbformat": 4,
 "nbformat_minor": 2
}
