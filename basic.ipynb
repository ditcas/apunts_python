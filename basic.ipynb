{
 "cells": [
  {
   "cell_type": "markdown",
   "metadata": {},
   "source": [
    "# Assignació\n",
    "\n",
    "Un = no significa igualtat d'expressions com en matemàtiques, sinó que significa ASSIGNACIÓ, és a dir, que primer executa l'expressió de la dreta i després la guarda a la variable de l'esquerra. \n",
    "\n",
    "El valor guardat pot ser actualitzat reemplaçant el valor antic per un de nou."
   ]
  },
  {
   "cell_type": "code",
   "execution_count": 3,
   "metadata": {},
   "outputs": [
    {
     "name": "stdout",
     "output_type": "stream",
     "text": [
      "6\n"
     ]
    }
   ],
   "source": [
    "x = 5\n",
    "x = x+1\n",
    "print(x)"
   ]
  },
  {
   "cell_type": "markdown",
   "metadata": {},
   "source": [
    "## Assignar una constant\n",
    "Quan una variable volem indicar que el seu valor es consideri com una constant i per tant no s'alteri al llarg del programa, ho marcarem estèticament posant el nom de la variable tot en majúscules. Python no té tipologies de constants integrades, tot són variables."
   ]
  },
  {
   "cell_type": "code",
   "execution_count": 4,
   "metadata": {},
   "outputs": [],
   "source": [
    "CONSTANT_MAX = 5000"
   ]
  },
  {
   "cell_type": "markdown",
   "metadata": {},
   "source": [
    "# Tipus de variables i com saber-lo\n",
    "\n",
    "Cadena de text - string\n",
    "\n",
    "Enter - int\n",
    "\n",
    "Decimal - float\n",
    "\n",
    "- N'hi ha d'altres, combinació d'aquests.\n",
    "- Si en una expressió hi ha un int i un float barrejats, la resposta sempre estarà en format float.\n",
    "- Podem escriure valors grans separant les xifres amb guió baix per veure-ho millor, no afecta a Python:\n",
    "10000000000 és el mateix que 10_000_000_000\n",
    "- Es pot convertir un tipus a int o float usant les funcions int() i float(). OJO, si convertim una string a int o float i conté lletres, donarà error."
   ]
  },
  {
   "cell_type": "code",
   "execution_count": 6,
   "metadata": {},
   "outputs": [
    {
     "name": "stdout",
     "output_type": "stream",
     "text": [
      "<class 'str'>\n",
      "<class 'int'>\n",
      "<class 'float'>\n",
      "42.0\n",
      "Type inicial:  <class 'str'>\n",
      "Type després de float():  <class 'float'>\n",
      "123.0\n"
     ]
    }
   ],
   "source": [
    "cadena = \"Hello world\"\n",
    "print(type(cadena))\n",
    "x = 1\n",
    "print(type(x))\n",
    "x = 98.6\n",
    "print(type(x))\n",
    "\n",
    "print(float(42))\n",
    "\n",
    "cadena = \"123\" # OJO Si hi ha lletres dóna error.\n",
    "print(\"Type inicial: \", type(cadena))\n",
    "cadena = float(cadena)\n",
    "print(\"Type després de float(): \", type(cadena))\n",
    "print(cadena)"
   ]
  },
  {
   "cell_type": "markdown",
   "metadata": {},
   "source": [
    "# Numeric expressions\n",
    "\n",
    "- \"+\"\n",
    "\n",
    "sumar per int i float\n",
    "\n",
    "concatenar per strings (enganxat, sense espais)\n",
    "\n",
    "- \"-\" , \"*\" , \"/\" , \"//\"\n",
    "\n",
    "restar, multiplicar, dividir, divisió entera. La divisió sempre retorna un float excepte \"//\".\n",
    "\n",
    "- \"**\" \n",
    "\n",
    "potència\n",
    "\n",
    "- \"%\" \n",
    "\n",
    "residu d'una divisió\n",
    "\n",
    "- Jerarquia \n",
    "\n",
    "D'esquerra a dreta\n",
    "\n",
    "Parèntesis, potència, * i /, + i -"
   ]
  },
  {
   "cell_type": "code",
   "execution_count": 7,
   "metadata": {},
   "outputs": [
    {
     "name": "stdout",
     "output_type": "stream",
     "text": [
      "Divisio entera: 8 <class 'int'>\n",
      "Divisio: 8.5 <class 'float'>\n",
      "Divisio enter i float: 8.5 <class 'float'>\n",
      "Operacio combinada: 11.0 <class 'float'>\n"
     ]
    }
   ],
   "source": [
    "width = 17\n",
    "print(\"Divisio entera:\", width//2, type(width//2)) \n",
    "print(\"Divisio:\", width/2, type(width/2))\n",
    "print(\"Divisio enter i float:\", width/2.0, type(width/2.0))\n",
    "print(\"Operacio combinada:\", 1+2*5.0, type(1+2*5.0))"
   ]
  },
  {
   "cell_type": "markdown",
   "metadata": {},
   "source": [
    "# Comanda INPUT i cadenes F (formato)\n",
    "\n",
    "input() - We can instruct Python to pause and read data from the user. Returns always a string.\n",
    "\n",
    "f\" {} {}\" - Escriure variables dins d'una única cadena."
   ]
  },
  {
   "cell_type": "code",
   "execution_count": 5,
   "metadata": {},
   "outputs": [
    {
     "name": "stdout",
     "output_type": "stream",
     "text": [
      "Benvingut/da Judit!\n",
      "Benvingut/da Judit!\n",
      "Benvingut/da Judit!\n",
      "Benvingut/da Judit!\n"
     ]
    }
   ],
   "source": [
    "nom = input(\"El teu nom és: \")\n",
    "\n",
    "print(f\"Benvingut/da {nom}!\") # La millor manera de fer-ho, usar cadenes f.\n",
    "\n",
    "print(\"Benvingut/da\", nom + \"!\")\n",
    "print(\"Benvingut/da\", nom, end = \"!\\n\") # \\n fa el salto de carro. Quan no posem el paràmetre end en un print el salto de carro el fa per defecte.\n",
    "print(\"Benvingut/da \", nom, \"!\", sep = \"\")"
   ]
  },
  {
   "cell_type": "code",
   "execution_count": 7,
   "metadata": {},
   "outputs": [
    {
     "name": "stdout",
     "output_type": "stream",
     "text": [
      "Gross pay: 20.0\n"
     ]
    }
   ],
   "source": [
    "# Write a program to prompt the user for hours and rate per hour to compute gross pay.\n",
    "\n",
    "xh = input(\"How many hours have you done? \")\n",
    "xe = input(\"What's your rate per hour? \")\n",
    "gp = float(xh) * float(xe) # Transforma a float perquè input guarda en string\n",
    "valor_arrodonit = round(gp, 3) # Arrodoneix el valor de gp, a 3 decimals\n",
    "print(f\"Gross pay: {valor_arrodonit}\")"
   ]
  },
  {
   "cell_type": "markdown",
   "metadata": {},
   "source": [
    "# Comparison operators\n",
    "\n",
    "They look at the variables but do not change the variables\n",
    "\n",
    "- \"<\" less than\n",
    "\n",
    "- \"<=\" less than or equal to\n",
    "\n",
    "- \"==\" equal to\n",
    "\n",
    "- \">=\" greater than or equal to\n",
    "\n",
    "- \">\" greater than\n",
    "\n",
    "- \"!=\" not equal"
   ]
  }
 ],
 "metadata": {
  "kernelspec": {
   "display_name": "Python 3.8.9 64-bit",
   "language": "python",
   "name": "python3"
  },
  "language_info": {
   "codemirror_mode": {
    "name": "ipython",
    "version": 3
   },
   "file_extension": ".py",
   "mimetype": "text/x-python",
   "name": "python",
   "nbconvert_exporter": "python",
   "pygments_lexer": "ipython3",
   "version": "3.8.9"
  },
  "orig_nbformat": 4,
  "vscode": {
   "interpreter": {
    "hash": "31f2aee4e71d21fbe5cf8b01ff0e069b9275f58929596ceb00d14d90e3e16cd6"
   }
  }
 },
 "nbformat": 4,
 "nbformat_minor": 2
}
