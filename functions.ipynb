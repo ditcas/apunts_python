{
 "cells": [
  {
   "cell_type": "markdown",
   "metadata": {},
   "source": [
    "# Functions"
   ]
  },
  {
   "cell_type": "markdown",
   "metadata": {},
   "source": [
    "**Índex**\n",
    "\n",
    "1. [Functions - definició](#id1)\n",
    "\n",
    "2. [Tipus d'arguments](#id2)\n",
    "\n",
    "    2.1 [Arguments posicionals (positional arguments)](#id21)\n",
    "\n",
    "    2.2 [Arguments nominals (keyword arguments)](#id22)\n",
    "\n",
    "    2.3 [Mix arguments posicionals i nominals](#id23)\n",
    "\n",
    "    2.4 [Extra](#id24)\n",
    "\n",
    "3. [Exemples de codi](#id3)\n",
    "\n",
    "4. [Documentació](#id4)\n",
    "\n",
    "5. [Funcions com a paràmetre. Les funcions són objectes](#id5)\n",
    "\n",
    "    5.1 [Funció map](#id51)\n",
    "\n",
    "6. [Anonymous (Lambda) Functions](#id6)\n",
    "\n",
    "    6.1. [Funció filter](#id61)\n",
    "\n",
    "    6.2. [Funció reduce](#id62)\n",
    "\n",
    "7. [Generadors](#id7)\n",
    "\n",
    "    7.1 [Funció generadora](#id71)\n",
    "\n",
    "    7.2 [Expressió generadora](#id72)\n",
    "\n",
    "    7.3 [itertools module](#id73)"
   ]
  },
  {
   "cell_type": "markdown",
   "metadata": {},
   "source": [
    "<div id='id1' />\n",
    "\n",
    "# Functions - definició\n",
    "\n",
    "```plain\n",
    "def nom(argument1, argument2) :\n",
    "\n",
    "    __________\n",
    "\n",
    "    return ______\n",
    "```\n",
    "\n",
    "Els arguments són paràmetres de la funció que requereix que li siguin passats per poder exectuar els càlculs. No són variables, no es guarden en cap memòria.\n",
    "\n",
    "El \"return\" tanca l'execució de la funció i retorna el que indiquem com a resultat d'aquesta. \n",
    "\n",
    "- Un \"return\" pot retornar més d'un valor.\n",
    "\n",
    "    - return (a, b, c) # una tupla\n",
    "    - return {\"a\": a, \"b\": b, \"c\": c} # un dict\n",
    "\n",
    "- Si no hi ha return, la funció retorna None per defecte."
   ]
  },
  {
   "cell_type": "markdown",
   "metadata": {},
   "source": [
    "<div id='id2' />\n",
    "\n",
    "# Tipus d'arguments"
   ]
  },
  {
   "cell_type": "markdown",
   "metadata": {},
   "source": [
    "<div id='id21' />\n",
    "\n",
    "## Arguments posicionals (positional arguments)\n",
    "\n",
    "def calcul_salari(hores, preu_hora)\n",
    "\n",
    "calcul_salari(8, 2) # Passes els valors en el mateix ordre en el que estan definits.\n",
    "\n",
    "Tenen el desavantatge que cal recordar l'ordre a l'hora de cridar la funció."
   ]
  },
  {
   "cell_type": "markdown",
   "metadata": {},
   "source": [
    "<div id='id22' />\n",
    "\n",
    "## Arguments nominals (keyword arguments)\n",
    "\n",
    "S'assigna un valor a aquell argument en la definició de la funció. \n",
    "\n",
    "def calcul_salari(hores = 8, preu_hora = 2)\n",
    "\n",
    "Permet:\n",
    "\n",
    "- Si no passem arguments a la funció, agafarà per defecte els que hem posat en la definició.  calcul_salari()\n",
    "- Podem passar només alguns dels arguments i agafarà dels altres els valors per defecte definits."
   ]
  },
  {
   "cell_type": "markdown",
   "metadata": {},
   "source": [
    "<div id='id23' />\n",
    "\n",
    "## Mix arguments posicionals i nominals\n",
    "\n",
    "Tant en la definició com en cridar-la podem barrejar posicionals i nominals, però els posicionals sempre han d'anar primer. En el moment en que es defineix un nominal, la resta de la dreta també ho han de ser. \n",
    "\n",
    "Usar nominals en cridar una funció permet despreocupar-se de l'ordre dels arguments."
   ]
  },
  {
   "cell_type": "markdown",
   "metadata": {},
   "source": [
    "<div id='id24' />\n",
    "\n",
    "## Extra\n",
    "\n",
    "Podem obligar a que els paràmetres siguin passats de manera posicional o nominal.\n",
    "\n",
    "def my_func(a, b, c, /, d, e, f)  # Els paràmetres a l'esquerra de / han de ser passats posicional.\n",
    "\n",
    "def my_func(a, b, c, *, d=, e=, f=)  # Els paràmetres a la dreta de * han de ser passats nominal.\n",
    "\n",
    "def my_func(a, b, c, /, *, d=, e=, f=)  # Ambdues obligacions a la vegada"
   ]
  },
  {
   "cell_type": "markdown",
   "metadata": {},
   "source": [
    "<div id='id3' />\n",
    "\n",
    "# Exemples de codi"
   ]
  },
  {
   "cell_type": "code",
   "execution_count": 24,
   "metadata": {},
   "outputs": [
    {
     "data": {
      "text/plain": [
       "2.0"
      ]
     },
     "execution_count": 24,
     "metadata": {},
     "output_type": "execute_result"
    }
   ],
   "source": [
    "def calcul_salari(hores, preu_hora, extra, preu_extra) :\n",
    "    return hores * preu_hora + extra * preu_extra\n",
    "\n",
    "calcul_salari(8, 2, 2, 3) # Ús de posicionals\n",
    "\n",
    "calcul_salari(preu_extra=3, extra=2, preu_hora=2, hores=8)  # Ús de nominals en cridar la funció\n",
    "\n",
    "# calcul_salari(preu_extra=3, extra=2, preu_hora=2, 8)  # Traceback, posicional després de nominals\n",
    "\n",
    "def div(a=10, b=2) :  # Ús de nominals en definir la funció\n",
    "    return a / b\n",
    "\n",
    "div() # a=10 i b=2\n",
    "div(3) # Considera a=3, b=2\n",
    "div(b=3) # Considera a=10, b=3\n",
    "div(9,3) # Considera a=9, b=3\n",
    "# div(a=6, 3) # Traceback, posicional després de nominal.\n",
    "\n",
    "def div2(a, b=2) :  # Ús de posicionals i nominals en definir la funció\n",
    "    return a / b\n",
    "\n",
    "# div2() # Traceback perquè mínim s'ha de passar un argument, per \"a\"\n",
    "div2(10) # a=10, b=2\n",
    "div2(9, b=3)\n",
    "div2(b=3, a=6)"
   ]
  },
  {
   "cell_type": "code",
   "execution_count": null,
   "metadata": {},
   "outputs": [],
   "source": [
    "# Reescribe el programa de cálculo del salario, con tarifa-y- media para las horas extras, y crea una función llamada calculo_salario que reciba dos parámetros (horas y tarifa).\n",
    "\n",
    "import sys #Llibreria que conté l'opció de fer sys.exit, que \"surt\" del programa.\n",
    "\n",
    "def calcul_salari(hores, preu_hora) : # hores i preu hora són dos arguments que la funció necessita.\n",
    "\n",
    "    jornada_base = 40\n",
    "\n",
    "    if hores <= jornada_base :  # primer posar en l'if el cas més plausible, que és no fer hores extres.\n",
    "        salari = hores * preu_hora\n",
    "    else :\n",
    "        hores_extres = hores - jornada_base\n",
    "        salari_base = jornada_base * preu_hora\n",
    "        salari_extra = hores_extres * 1.5 * preu_hora\n",
    "        salari = salari_base + salari_extra\n",
    "\n",
    "    return round(salari, 3)\n",
    "\n",
    "\n",
    "hores = input(\"Introdueix les hores: \")\n",
    "try : \n",
    "    hores = float(hores)\n",
    "except :\n",
    "    sys.exit(\"Error, per favor introdueixi un valor numèric.\") # Comprovar que l'usuari ha introduit un valor numèric. No pots fiar-te mai de l'usuari. Al principi, posar sempre totes les comprovacions d'allò que pot portar a error.\n",
    "\n",
    "preu_hora = input(\"Introdueix la tarifa per hora: \")\n",
    "try: \n",
    "    preu_hora = float(preu_hora)\n",
    "except :\n",
    "    sys.exit(\"Error, per favor introdueixi un valor numèric.\")\n",
    "\n",
    "\n",
    "print(\"Salari:\", calcul_salari(hores, preu_hora))"
   ]
  },
  {
   "cell_type": "code",
   "execution_count": null,
   "metadata": {},
   "outputs": [],
   "source": [
    "# Reescribe el programa de calificaciones del capítulo anterior usando una función llamada calcula_calificacion, que reciba una puntuación como parámetro y devuelva una calificación como cadena.\n",
    "\n",
    "import sys\n",
    "\n",
    "def calcula_calificacion(puntuacio):\n",
    "    if puntuacio > 1.0 or puntuacio < 0.0 :\n",
    "        return \"Error. La puntuació està fora del rang.\"\n",
    "    elif puntuacio < 0.6 :\n",
    "        return \"Insuficient\"\n",
    "    elif puntuacio < 0.7 :\n",
    "        return \"Suficient\"\n",
    "    elif puntuacio < 0.8 :\n",
    "        return \"Bé\"\n",
    "    elif puntuacio < 0.9 :\n",
    "        return \"Notable\"\n",
    "    else :\n",
    "        return \"Excel·lent\"\n",
    "\n",
    "\n",
    "puntuacio = input(\"Introdueixi la puntuació entre 0.0 i 1.0: \")\n",
    "try :\n",
    "    puntuacio = float(puntuacio)\n",
    "except :\n",
    "    sys.exit(\"Puntuació incorrecta. Introdueixi un valor numèric.\")\n",
    "\n",
    "print(calcula_calificacion(puntuacio))"
   ]
  },
  {
   "cell_type": "markdown",
   "metadata": {},
   "source": [
    "<div id='id4' />\n",
    "\n",
    "# Documentació\n",
    "\n",
    "En els arguments de def, indicar el type.\n",
    "\n",
    "Bloc explicatiu:\n",
    "- El que fa la funció.\n",
    "- Què és cada paràmetre/argument i el seu tipus.\n",
    "- Què retorna i el seu tipus.\n",
    "\n",
    "```python\n",
    "def frontmatter(filename: str, data: dict, begin: str = \"---\", end: str = \"---\", after: int = 2) :\n",
    "    '''\n",
    "    Write a frontmatter at the beginning of a file.\n",
    "\n",
    "    :param filename: file\n",
    "    :type filename: file\n",
    "    :param data: frontmatter's data.\n",
    "    :type data: dictionary\n",
    "    :param begin: the wrapper put at the beginning of the frontmatter\n",
    "    :type begin: str\n",
    "    :param end: the wrapper put at the end of the frontmatter\n",
    "    :type end: str\n",
    "    :param after: number of line breaks between frontmatter and text\n",
    "    :type after: int\n",
    "\n",
    "    :return: a file with a frontmatter\n",
    "    :rtype: file\n",
    "    '''\n",
    "```"
   ]
  },
  {
   "cell_type": "markdown",
   "metadata": {},
   "source": [
    "<div id='id5' />\n",
    "\n",
    "# Funcions com a paràmetre. Les funcions són objectes\n",
    "\n",
    "Las funciones se pueden utilizar en cualquier contexto de nuestro programa. Son objetos que pueden ser asignados a variables, usados en expresiones, devueltos como valores de retorno o pasados como argumentos a otras funciones."
   ]
  },
  {
   "cell_type": "code",
   "execution_count": 36,
   "metadata": {},
   "outputs": [
    {
     "data": {
      "text/plain": [
       "'holaholahola'"
      ]
     },
     "execution_count": 36,
     "metadata": {},
     "output_type": "execute_result"
    }
   ],
   "source": [
    "# Funció com a paràmetre d'una funció\n",
    "\n",
    "def repeat_please(text, times=1) : #Funció que reescriu un text repetint-lo times vegades.\n",
    "    return text * times\n",
    "\n",
    "def doit(f, arg1, arg2): # Funció que donada una funció que tingui dos arguments, l'executa.\n",
    "    return f(arg1, arg2)\n",
    "\n",
    "\n",
    "doit(repeat_please, \"hola\", 3)"
   ]
  },
  {
   "cell_type": "code",
   "execution_count": 35,
   "metadata": {},
   "outputs": [
    {
     "data": {
      "text/plain": [
       "{'Alabama', 'Florida', 'Georgia', 'South Carolina', 'West Virgina'}"
      ]
     },
     "execution_count": 35,
     "metadata": {},
     "output_type": "execute_result"
    }
   ],
   "source": [
    "# Llista de funcions\n",
    "\n",
    "# import re\n",
    "import string\n",
    "\n",
    "def remove_punctuation(value) :\n",
    "    # return re.sub(\"[!#?]\", \"\", value) # Expressions regulars\n",
    "    valuewp = value.translate(value.maketrans(\"\",\"\",string.punctuation))\n",
    "\n",
    "    return valuewp\n",
    "\n",
    "# remove_punctuation(\"hola!$?#\")  # return hola\n",
    "\n",
    "clean_func = [str.strip, remove_punctuation, str.title] # Llista de funcions que volem aplicar a cada una de les strings\n",
    "\n",
    "def clean_strings(strings, clean_func) :\n",
    "    result = []\n",
    "    for value in strings :\n",
    "        for function in clean_func :\n",
    "            value = function(value)\n",
    "        result.append(value)\n",
    "    result_unique = set(result)\n",
    "    return result_unique\n",
    "\n",
    "states = [\" Alabama\", \"Georgia!\", \"Georgia\", \"georgia\", \"FlOrIda\", \"south Carolina!!! \", \"West virgina?\"]\n",
    "\n",
    "clean_strings(states, clean_func)"
   ]
  },
  {
   "cell_type": "markdown",
   "metadata": {},
   "source": [
    "<div id='id51' />\n",
    "\n",
    "## Funció map\n",
    "\n",
    "Applies a function to a sequence of some kind"
   ]
  },
  {
   "cell_type": "code",
   "execution_count": 42,
   "metadata": {},
   "outputs": [
    {
     "name": "stdout",
     "output_type": "stream",
     "text": [
      "[' Alabama', 'Georgia!', 'Georgia', 'georgia', 'FlOrIda', 'south Carolina!!! ', 'West virgina?']\n",
      "[' Alabama', 'Georgia', 'Georgia', 'georgia', 'FlOrIda', 'south Carolina ', 'West virgina']\n"
     ]
    }
   ],
   "source": [
    "print(states)\n",
    "\n",
    "stateswp = []\n",
    "for state in map(remove_punctuation, states) : # remove_punctuation s'aplica a una string. En fer map, l'apliquem a totes les strings de states.\n",
    "    stateswp.append(state)\n",
    "print(stateswp)"
   ]
  },
  {
   "cell_type": "markdown",
   "metadata": {},
   "source": [
    "<div id='id6' />\n",
    "\n",
    "# Anonymous (Lambda) Functions\n",
    "\n",
    "Una función lambda tiene las siguientes propiedades:\n",
    "\n",
    "- Se escribe con una única sentencia.\n",
    "- No tiene nombre (anónima).\n",
    "- Su cuerpo tiene implícito un return.\n",
    "- Puede recibir cualquier número de parámetros."
   ]
  },
  {
   "cell_type": "code",
   "execution_count": 56,
   "metadata": {},
   "outputs": [
    {
     "name": "stdout",
     "output_type": "stream",
     "text": [
      "<function <lambda> at 0x10c56d940>\n",
      "4\n"
     ]
    }
   ],
   "source": [
    "num_words = lambda t: len(t.split())\n",
    "\n",
    "print(num_words)\n",
    "\n",
    "print(num_words(\"hola caracola com estàs\"))"
   ]
  },
  {
   "cell_type": "code",
   "execution_count": 60,
   "metadata": {},
   "outputs": [
    {
     "name": "stdout",
     "output_type": "stream",
     "text": [
      "[(54.572062, -73.285171), (55.147488, -2.667338), (15.623037, 13.258358), (3.152857, 115.327724), (-40.454262, 172.318877)]\n"
     ]
    }
   ],
   "source": [
    "# Per ordenar\n",
    "\n",
    "geoloc = [(15.623037, 13.258358), (55.147488, -2.667338), (54.572062, -73.285171), (3.152857, 115.327724), (-40.454262, 172.318877)]\n",
    "\n",
    "geoloc.sort(key = lambda t: t[1]) #Ordenem pel segon valor de la tupla\n",
    "\n",
    "print(geoloc)"
   ]
  },
  {
   "cell_type": "code",
   "execution_count": 65,
   "metadata": {},
   "outputs": [
    {
     "name": "stdout",
     "output_type": "stream",
     "text": [
      "[1, 2, 3, 4, 5, 6, 7, 8, 9, 10]\n",
      "[0.5, 2.0, 4.5, 8.0, 12.5, 18.0, 24.5, 32.0, 40.5, 50.0]\n"
     ]
    }
   ],
   "source": [
    "# Conjuntament amb map\n",
    "\n",
    "print(list(range(1,11)))\n",
    "\n",
    "data = range(1, 11)\n",
    "\n",
    "# Elevar a dos i dividir entre dos els valors\n",
    "\n",
    "print(list(map(lambda x: x**2 / 2, data)))\n"
   ]
  },
  {
   "cell_type": "markdown",
   "metadata": {},
   "source": [
    "<div id='id61' />\n",
    "\n",
    "## Funció filter\n",
    "\n",
    "filter(función, iterable)\n",
    "\n",
    "Filter selecciona aquellos elementos de un iterable que cumplan una determinada condición. Selecciona aquellos en los que la función devuelve True.\n",
    "\n",
    "Filter és un generator, así que necesita delante un list, set para mostrar los elementos.\n",
    "\n",
    "ÉS PREFERIBLE USAR LLISTES/SETS/DICTS PER COMPRENSIÓ QUE FILTER()"
   ]
  },
  {
   "cell_type": "code",
   "execution_count": 12,
   "metadata": {},
   "outputs": [
    {
     "data": {
      "text/plain": [
       "[5, 5, 1]"
      ]
     },
     "execution_count": 12,
     "metadata": {},
     "output_type": "execute_result"
    }
   ],
   "source": [
    "data = [4, 5, 2, 5, 8, 1]\n",
    "\n",
    "list(filter(lambda x: x % 2 == 1, data)) # Selecciona los impares, es decir, residuo == 1 (True) al dividir entre 2."
   ]
  },
  {
   "cell_type": "code",
   "execution_count": 11,
   "metadata": {},
   "outputs": [
    {
     "name": "stdout",
     "output_type": "stream",
     "text": [
      "[5, 5, 1]\n"
     ]
    }
   ],
   "source": [
    "# Usant sets per comprensió\n",
    "\n",
    "data = [4, 5, 2, 5, 8, 1]\n",
    "\n",
    "impares = [x for x in data if x % 2 == 1]\n",
    "\n",
    "print(impares)"
   ]
  },
  {
   "cell_type": "markdown",
   "metadata": {},
   "source": [
    "<div id='id62' />\n",
    "\n",
    "## Funció reduce\n",
    "\n",
    "reduce(funció, iterable)\n",
    "\n",
    "Nos permite aplicar una función dada sobre todos los elementos de un iterable de manera acumulativa.\n",
    "\n",
    "It just returns a single value as output which is the result of whole iterable getting reduced to only single integer or string or boolean."
   ]
  },
  {
   "cell_type": "code",
   "execution_count": 18,
   "metadata": {},
   "outputs": [
    {
     "data": {
      "text/plain": [
       "120"
      ]
     },
     "execution_count": 18,
     "metadata": {},
     "output_type": "execute_result"
    }
   ],
   "source": [
    "from functools import reduce\n",
    "\n",
    "data = range(1, 6) # iterable de 1 a 5\n",
    "\n",
    "reduce(lambda x, y : x * y, data)  # ((((1*2) * 3) * 4) * 5)"
   ]
  },
  {
   "cell_type": "code",
   "execution_count": 88,
   "metadata": {},
   "outputs": [
    {
     "name": "stdout",
     "output_type": "stream",
     "text": [
      "[46, 33, 3]\n",
      "3\n",
      "[{'nom': 'Granny', 'edat': 3}]\n"
     ]
    }
   ],
   "source": [
    "# Imprimeix els diccionaris que tinguin el valor d'\"edat\" menor.\n",
    "\n",
    "from functools import reduce\n",
    "\n",
    "trapes = [{\"nom\": \"Israel\", \"edat\": 46}, {\"nom\": \"Judit\", \"edat\": 33}, {\"nom\": \"Granny\", \"edat\": 3}]\n",
    "\n",
    "# Creem una llista amb els valors de les edats sempre i quan siguin números.\n",
    "data = [dict[\"edat\"] for dict in trapes if isinstance(dict[\"edat\"],(int,float))]\n",
    "print(data)\n",
    "\n",
    "# Seleccionem el mínim de la llista.\n",
    "# SERIA MÉS NORMAL USAR min(data) !!! enlloc de reduce()\n",
    "\n",
    "min_edat = reduce(lambda x, y : min(x,y), data)\n",
    "print(min_edat)\n",
    "\n",
    "min_data = [dict for dict in trapes if dict[\"edat\"] == min_edat]\n",
    "print(min_data)"
   ]
  },
  {
   "cell_type": "code",
   "execution_count": 90,
   "metadata": {},
   "outputs": [
    {
     "name": "stdout",
     "output_type": "stream",
     "text": [
      "[3.0, 33.0, 3.0]\n",
      "[{'nom': 'Israel', 'edat': '3'}, {'nom': 'Granny', 'edat': 3}]\n"
     ]
    }
   ],
   "source": [
    "# Imprimeix els diccionaris que tinguin el valor d'\"edat\" menor.\n",
    "## Versió en que si podem transformar l'edat en valor, ho fem; i no usem reduce() sinó min() perquè és més eficient.\n",
    "\n",
    "trapes = [{\"nom\": \"Israel\", \"edat\": \"3\"}, {\"nom\": \"Judit\", \"edat\": 33}, {\"nom\": \"Granny\", \"edat\": 3}]\n",
    "\n",
    "data = []\n",
    "for dict in trapes :\n",
    "    try :\n",
    "        float(dict[\"edat\"])\n",
    "        data.append(float(dict[\"edat\"]))\n",
    "    except :\n",
    "        continue\n",
    "print(data)\n",
    "\n",
    "min_data = [dict for dict in trapes if float(dict[\"edat\"]) == min(data)]\n",
    "print(min_data)"
   ]
  },
  {
   "cell_type": "markdown",
   "metadata": {},
   "source": [
    "<div id='id7' />\n",
    "\n",
    "# Generadors\n",
    "\n",
    "A generator is a concise way to construct a new iterable object."
   ]
  },
  {
   "cell_type": "markdown",
   "metadata": {},
   "source": [
    "<div id='id71' />\n",
    "\n",
    "## Funció generadora\n",
    "\n",
    "Las funciones generadoras se escriben como funciones ordinarias con el matiz de incorporar la sentencia yield que sustituye, de alguna manera, a return. \n",
    "\n",
    "Devuelve entonces una secuencia de valores, que no se ejecutan de golpe, sino en el momento en que cada uno se requiere."
   ]
  },
  {
   "cell_type": "code",
   "execution_count": 100,
   "metadata": {},
   "outputs": [
    {
     "name": "stdout",
     "output_type": "stream",
     "text": [
      "<class 'generator'>\n",
      "iterable dels quadrats des de 1 fins a 10\n",
      "[1, 4, 9, 16, 25, 36, 49, 64, 81, 100]\n",
      "iterable dels quadrats des de 1 fins a 10\n",
      "1 4 9 16 25 36 49 64 81 100 "
     ]
    }
   ],
   "source": [
    "## Funció que genera un iterable amb els quadrats dels primers n números.\n",
    "\n",
    "def squares(n) :\n",
    "    print(f\"iterable dels quadrats des de 1 fins a {n}\")\n",
    "    for i in range(1, n+1) :\n",
    "        yield i**2\n",
    "\n",
    "print(type(squares(2)))\n",
    "\n",
    "print(list(squares(10))) # és com un range, cal fer un list o un for per veure'l.\n",
    "\n",
    "for i in squares(10) :\n",
    "    print(i, end = \" \")"
   ]
  },
  {
   "cell_type": "markdown",
   "metadata": {},
   "source": [
    "<div id='id72' />\n",
    "\n",
    "## Expressió generadora\n",
    "\n",
    "Una expresión generadora es sintácticamente muy similar a una lista por comprensión, pero utilizamos paréntesis en vez de corchetes. Se podría ver como una versión acortada de una función generadora."
   ]
  },
  {
   "cell_type": "code",
   "execution_count": 104,
   "metadata": {},
   "outputs": [
    {
     "name": "stdout",
     "output_type": "stream",
     "text": [
      "[1, 4, 9, 16, 25, 36, 49, 64, 81, 100]\n"
     ]
    }
   ],
   "source": [
    "squares = (i**2 for i in range(1, 11))\n",
    "\n",
    "print(list(squares))"
   ]
  },
  {
   "cell_type": "code",
   "execution_count": 121,
   "metadata": {},
   "outputs": [
    {
     "name": "stdout",
     "output_type": "stream",
     "text": [
      "385\n",
      "{1: 1, 2: 4, 3: 9, 4: 16, 5: 25, 6: 36, 7: 49, 8: 64, 9: 81, 10: 100}\n"
     ]
    }
   ],
   "source": [
    "# They can be used instead of list comprehensions as function arguments in many cases.\n",
    "\n",
    "sum_squares = sum(x**2 for x in range(1, 11))\n",
    "print(sum_squares)\n",
    "\n",
    "# Crear un diccionari amb keys i values usant una expressió generadora\n",
    "\n",
    "dict = { x : y for (x, y) in zip((i for i in range(1,11)) , (i**2 for i in range(1,11)))}\n",
    "\n",
    "print(dict)"
   ]
  },
  {
   "cell_type": "markdown",
   "metadata": {},
   "source": [
    "<div id='id73' />\n",
    "\n",
    "## itertools module\n",
    "\n",
    "The standard library itertools module has a collection of generators for many common data algorithms. \n",
    "\n",
    "grupby(iterable[ , keyfunc])\n",
    "\n",
    "combinations(iterable, k)\n",
    "\n",
    "permutations(iterable, k)\n",
    "\n",
    "product(*iterables, repeat)"
   ]
  },
  {
   "cell_type": "code",
   "execution_count": 127,
   "metadata": {},
   "outputs": [
    {
     "name": "stdout",
     "output_type": "stream",
     "text": [
      "A ['Alan', 'Adam']\n",
      "W ['Wes', 'Will']\n",
      "A ['Albert']\n",
      "S ['Steven']\n"
     ]
    }
   ],
   "source": [
    "import itertools\n",
    "\n",
    "first_letter = lambda x : x[0]\n",
    "\n",
    "names = [\"Alan\", \"Adam\", \"Wes\", \"Will\", \"Albert\", \"Steven\"]\n",
    "\n",
    "for letter, names in itertools.groupby(names, first_letter) :\n",
    "    print(letter, list(names)) #names és un iterable i per això necessita de list"
   ]
  },
  {
   "cell_type": "code",
   "execution_count": 178,
   "metadata": {},
   "outputs": [
    {
     "name": "stdout",
     "output_type": "stream",
     "text": [
      "Producte cartesià\n",
      "Permutacions. Maneres diferents d'ordenar els ítems.\n",
      "Variació. Maneres diferents de subgrups on l'ordre importa.\n",
      "Variacions amb repetició. Maneres diferents de subgrups on l'ordre importa. En realitat és producte cartesià llista x llista\n",
      "Combinacions. Maneres diferents de subgrups on l'ordre no importa\n",
      "Combinacions amb repetició. Maneres diferents de subgrups on l'ordre no importa\n"
     ]
    }
   ],
   "source": [
    "from itertools import combinations, combinations_with_replacement, permutations, product\n",
    "from math import prod\n",
    "\n",
    "print(\"Producte cartesià\")\n",
    "a = [1, 2]\n",
    "b = ['a', 'b', 'c']\n",
    "#for i in product(a, b) :\n",
    "#    print(i)\n",
    "\n",
    "print(\"Permutacions. Maneres diferents d'ordenar els ítems.\")\n",
    "#for perm in permutations(b) :\n",
    "#    print(perm)\n",
    "\n",
    "print(\"Variació. Maneres diferents de subgrups on l'ordre importa.\")\n",
    "#for var in permutations(b, 2) :\n",
    "#    print(var)\n",
    "\n",
    "print(\"Variacions amb repetició. Maneres diferents de subgrups on l'ordre importa. En realitat és producte cartesià llista x llista\")\n",
    "#for varr in product(b, repeat=2) :\n",
    "#    print(varr)\n",
    "\n",
    "print(\"Combinacions. Maneres diferents de subgrups on l'ordre no importa\")\n",
    "#for com in combinations(b, 2) :\n",
    "#    print(com)\n",
    "\n",
    "print(\"Combinacions amb repetició. Maneres diferents de subgrups on l'ordre no importa\")\n",
    "#for comb in combinations_with_replacement(b, 2) :\n",
    "#    print(comb)"
   ]
  }
 ],
 "metadata": {
  "kernelspec": {
   "display_name": "Python 3.8.9 64-bit",
   "language": "python",
   "name": "python3"
  },
  "language_info": {
   "codemirror_mode": {
    "name": "ipython",
    "version": 3
   },
   "file_extension": ".py",
   "mimetype": "text/x-python",
   "name": "python",
   "nbconvert_exporter": "python",
   "pygments_lexer": "ipython3",
   "version": "3.8.9"
  },
  "orig_nbformat": 4,
  "vscode": {
   "interpreter": {
    "hash": "31f2aee4e71d21fbe5cf8b01ff0e069b9275f58929596ceb00d14d90e3e16cd6"
   }
  }
 },
 "nbformat": 4,
 "nbformat_minor": 2
}
