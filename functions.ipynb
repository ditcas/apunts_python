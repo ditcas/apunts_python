{
 "cells": [
  {
   "cell_type": "markdown",
   "metadata": {},
   "source": [
    "# Functions\n",
    "\n",
    "```plain\n",
    "def nom(argument1, argument2) :\n",
    "\n",
    "    __________\n",
    "\n",
    "    return ______\n",
    "```\n",
    "\n",
    "Els arguments són paràmetres de la funció que requereix que li siguin passats per poder exectuar els càlculs. No són variables, no es guarden en cap memòria.\n",
    "\n",
    "El \"return\" tanca l'execució de la funció i retorna el que indiquem com a resultat d'aquesta."
   ]
  },
  {
   "cell_type": "code",
   "execution_count": null,
   "metadata": {},
   "outputs": [],
   "source": [
    "# Reescribe el programa de cálculo del salario, con tarifa-y- media para las horas extras, y crea una función llamada calculo_salario que reciba dos parámetros (horas y tarifa).\n",
    "\n",
    "import sys #Llibreria que conté l'opció de fer sys.exit, que \"surt\" del programa.\n",
    "\n",
    "def calcul_salari(hores, preu_hora) : # hores i preu hora són dos arguments que la funció necessita.\n",
    "\n",
    "    jornada_base = 40\n",
    "\n",
    "    if hores <= jornada_base :  # primer posar en l'if el cas més plausible, que és no fer hores extres.\n",
    "        salari = hores * preu_hora\n",
    "    else :\n",
    "        hores_extres = hores - jornada_base\n",
    "        salari_base = jornada_base * preu_hora\n",
    "        salari_extra = hores_extres * 1.5 * preu_hora\n",
    "        salari = salari_base + salari_extra\n",
    "\n",
    "    return round(salari, 3)\n",
    "\n",
    "\n",
    "hores = input(\"Introdueix les hores: \")\n",
    "try : \n",
    "    hores = float(hores)\n",
    "except :\n",
    "    sys.exit(\"Error, per favor introdueixi un valor numèric.\") # Comprovar que l'usuari ha introduit un valor numèric. No pots fiar-te mai de l'usuari. Al principi, posar sempre totes les comprovacions d'allò que pot portar a error.\n",
    "\n",
    "preu_hora = input(\"Introdueix la tarifa per hora: \")\n",
    "try: \n",
    "    preu_hora = float(preu_hora)\n",
    "except :\n",
    "    sys.exit(\"Error, per favor introdueixi un valor numèric.\")\n",
    "\n",
    "\n",
    "print(\"Salari:\", calcul_salari(hores, preu_hora))"
   ]
  },
  {
   "cell_type": "code",
   "execution_count": null,
   "metadata": {},
   "outputs": [],
   "source": [
    "# Reescribe el programa de calificaciones del capítulo anterior usando una función llamada calcula_calificacion, que reciba una puntuación como parámetro y devuelva una calificación como cadena.\n",
    "\n",
    "import sys\n",
    "\n",
    "def calcula_calificacion(puntuacio):\n",
    "    if puntuacio > 1.0 or puntuacio < 0.0 :\n",
    "        return \"Error. La puntuació està fora del rang.\"\n",
    "    elif puntuacio < 0.6 :\n",
    "        return \"Insuficient\"\n",
    "    elif puntuacio < 0.7 :\n",
    "        return \"Suficient\"\n",
    "    elif puntuacio < 0.8 :\n",
    "        return \"Bé\"\n",
    "    elif puntuacio < 0.9 :\n",
    "        return \"Notable\"\n",
    "    else :\n",
    "        return \"Excel·lent\"\n",
    "\n",
    "\n",
    "puntuacio = input(\"Introdueixi la puntuació entre 0.0 i 1.0: \")\n",
    "try :\n",
    "    puntuacio = float(puntuacio)\n",
    "except :\n",
    "    sys.exit(\"Puntuació incorrecta. Introdueixi un valor numèric.\")\n",
    "\n",
    "print(calcula_calificacion(puntuacio))"
   ]
  }
 ],
 "metadata": {
  "kernelspec": {
   "display_name": "Python 3.8.9 64-bit",
   "language": "python",
   "name": "python3"
  },
  "language_info": {
   "name": "python",
   "version": "3.8.9"
  },
  "orig_nbformat": 4,
  "vscode": {
   "interpreter": {
    "hash": "31f2aee4e71d21fbe5cf8b01ff0e069b9275f58929596ceb00d14d90e3e16cd6"
   }
  }
 },
 "nbformat": 4,
 "nbformat_minor": 2
}
