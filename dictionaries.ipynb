{
 "cells": [
  {
   "cell_type": "markdown",
   "metadata": {},
   "source": [
    "# Dictionaries\n",
    "\n",
    "Dictionaries are Python's most powerful data collection.\n",
    "\n",
    "They have different names in different languages: Associative Arrays (Perl/PHP), Properties or Map or HashMap (Java), Property Bag (C#/ .Net)\n",
    "\n",
    "Dictionaries are like bags - no order, otherwise lists index their entries based on the position in the list. \n",
    "\n",
    "DICTIONARIES index using KEY/LABEL - VALUE.  It is a collection, i.e. many values in a single \"variable\".\n",
    "\n",
    "D'un dictionary, les keys són immutables i els values són mutables."
   ]
  },
  {
   "cell_type": "markdown",
   "metadata": {},
   "source": [
    "## Crear un dictionary\n",
    "\n",
    "Opció 1: crear un diccionari buit i anar-lo omplint\n",
    "\n",
    "diccionari = dict()\n",
    "\n",
    "diccionari[ key ] = value\n",
    "\n",
    "Opció 2: \n",
    "\n",
    "{key : value, key : value}\n",
    "\n",
    "Opció 3:\n",
    "\n",
    "A partir d'un zip de dues llistes\n",
    "\n",
    "```python\n",
    "dict1 = {}\n",
    "for key, value in zip(key_list, value_list):\n",
    "dict1[key] = value\n",
    "```"
   ]
  },
  {
   "cell_type": "code",
   "execution_count": 8,
   "metadata": {},
   "outputs": [
    {
     "name": "stdout",
     "output_type": "stream",
     "text": [
      "{'money': 12, 'candy': 3}\n",
      "3\n",
      "{'money': 12, 'candy': 5}\n",
      "{'Judit': 60, 'Israel': 50}\n",
      "False\n",
      "{'Àlgebra': 12, 'Càlcul': 8, 'Geometria': 7}\n"
     ]
    }
   ],
   "source": [
    "#Opció 1\n",
    "purse = dict() # empty dictionary\n",
    "purse[\"money\"] = 12\n",
    "purse[\"candy\"] = 3\n",
    "print(purse)\n",
    "print(purse[\"candy\"])\n",
    "purse[\"candy\"] = purse[\"candy\"] + 2\n",
    "print(purse)\n",
    "\n",
    "#Opció 2\n",
    "moneder = {\"Judit\" : 60, \"Israel\" : 50} # creating a dictionary\n",
    "print(moneder)\n",
    "# print(moneder[\"Dolors\"]) Donaria Tracebak perquè Dolors no està en el diccionari\n",
    "print(\"Dolors\" in moneder) # Retorna False\n",
    "\n",
    "#Opció 3\n",
    "branch = [\"Àlgebra\", \"Càlcul\", \"Geometria\"]\n",
    "num_child = [12,8,7]\n",
    "\n",
    "dicts = {}\n",
    "for key, value in zip(branch, num_child) :\n",
    "    dicts[key] = value\n",
    "print(dicts)"
   ]
  },
  {
   "cell_type": "markdown",
   "metadata": {},
   "source": [
    "## Valid dict key types\n",
    "\n",
    "While the values of a dict can be any Python object, the keys generally have to be immutable objects like scalar types (int, float, string) or tuples (all the objects in the tuple need to be immutable, too). The technical term here is hashability. You can check whether an object is hashable (can be used as a key in a dict) with the hash function. Si no dóna tracebak és que és vàlida."
   ]
  },
  {
   "cell_type": "code",
   "execution_count": 30,
   "metadata": {},
   "outputs": [
    {
     "ename": "TypeError",
     "evalue": "unhashable type: 'list'",
     "output_type": "error",
     "traceback": [
      "\u001b[0;31m---------------------------------------------------------------------------\u001b[0m",
      "\u001b[0;31mTypeError\u001b[0m                                 Traceback (most recent call last)",
      "\u001b[1;32m/Users/ju/Documents/1.DATASCIENCE/Llenguatges/Python/apunts_python/dictionaries.ipynb Celda 5\u001b[0m in \u001b[0;36m<cell line: 3>\u001b[0;34m()\u001b[0m\n\u001b[1;32m      <a href='vscode-notebook-cell:/Users/ju/Documents/1.DATASCIENCE/Llenguatges/Python/apunts_python/dictionaries.ipynb#ch0000019?line=0'>1</a>\u001b[0m \u001b[39mhash\u001b[39m(\u001b[39m\"\u001b[39m\u001b[39mhola\u001b[39m\u001b[39m\"\u001b[39m)\n\u001b[1;32m      <a href='vscode-notebook-cell:/Users/ju/Documents/1.DATASCIENCE/Llenguatges/Python/apunts_python/dictionaries.ipynb#ch0000019?line=1'>2</a>\u001b[0m \u001b[39mhash\u001b[39m((\u001b[39m1\u001b[39m,\u001b[39m3\u001b[39m))\n\u001b[0;32m----> <a href='vscode-notebook-cell:/Users/ju/Documents/1.DATASCIENCE/Llenguatges/Python/apunts_python/dictionaries.ipynb#ch0000019?line=2'>3</a>\u001b[0m \u001b[39mhash\u001b[39;49m([\u001b[39m1\u001b[39;49m,\u001b[39m2\u001b[39;49m])\n",
      "\u001b[0;31mTypeError\u001b[0m: unhashable type: 'list'"
     ]
    }
   ],
   "source": [
    "hash([1,2])\n",
    "# hauríem de transformar-la en tupla"
   ]
  },
  {
   "cell_type": "markdown",
   "metadata": {},
   "source": [
    "## Eliminar una key-value i afegir multiples key-values"
   ]
  },
  {
   "cell_type": "code",
   "execution_count": 7,
   "metadata": {},
   "outputs": [
    {
     "name": "stdout",
     "output_type": "stream",
     "text": [
      "{'Judit': 1, 'Israel': 4}\n",
      "{'Judit': 1}\n",
      "4\n",
      "{'Judit': 1, 'Mama': 2, 'Papa': 3}\n"
     ]
    }
   ],
   "source": [
    "#Eliminar\n",
    "d1 = {\"Judit\": 1, \"Israel\": 4, \"Granny\": 0}\n",
    "\n",
    "del d1[\"Granny\"]\n",
    "print(d1)\n",
    "\n",
    "trape = d1.pop(\"Israel\") # returns the value and delete the key\n",
    "print(d1)\n",
    "print(trape)\n",
    "\n",
    "#Afegir\n",
    "d1.update({\"Mama\": 2, \"Papa\": 3})\n",
    "print(d1)"
   ]
  },
  {
   "cell_type": "markdown",
   "metadata": {},
   "source": [
    "## Usar dictionaries per comptar elements. Method GET - value default\n",
    "\n",
    "En el següent codi veurem dos exemples, el primer, menys eficient, i el segon usant el method .get que el fa més eficient.\n",
    "\n",
    "```plain \n",
    "counts.get(name, 0)  equival a \n",
    "\n",
    "if name in counts:\n",
    "    x = counts[name]\n",
    "else :\n",
    "    x = 0\n",
    "```"
   ]
  },
  {
   "cell_type": "code",
   "execution_count": 1,
   "metadata": {},
   "outputs": [
    {
     "name": "stdout",
     "output_type": "stream",
     "text": [
      "{'csev': 2, 'cwen': 2, 'zqian': 1}\n",
      "{'csev': 2, 'cwen': 2, 'zqian': 1}\n"
     ]
    }
   ],
   "source": [
    "# Bucle sense method get. Menys eficient.\n",
    "\n",
    "counts = dict()\n",
    "names = [\"csev\", \"cwen\", \"csev\", \"zqian\", \"cwen\"]\n",
    "for name in names :\n",
    "    if name not in counts :\n",
    "        counts[name] = 1\n",
    "    else :\n",
    "        counts[name] += 1\n",
    "print(counts)\n",
    "\n",
    "# The pattern of checking to see if a key is already in a dictionary and assuming a default value if the key is not there is so common that \n",
    "# there is a method called GET() that does this.\n",
    "\n",
    "# Bucle amb method get més eficient\n",
    "counts = dict()\n",
    "names = [\"csev\", \"cwen\", \"csev\", \"zqian\", \"cwen\"]\n",
    "for name in names :\n",
    "    counts[name] = counts.get(name, 0) + 1\n",
    "print(counts)"
   ]
  },
  {
   "cell_type": "markdown",
   "metadata": {},
   "source": [
    "## Method setdefault"
   ]
  },
  {
   "cell_type": "code",
   "execution_count": 13,
   "metadata": {},
   "outputs": [
    {
     "name": "stdout",
     "output_type": "stream",
     "text": [
      "{'a': ['apple', 'atom'], 'b': ['bat', 'bar', 'book'], 'h': ['house']}\n"
     ]
    }
   ],
   "source": [
    "# bucle if-else\n",
    "words = ['apple', 'bat', 'bar', 'atom', 'book', 'house']\n",
    "\n",
    "by_letter = {}\n",
    "for word in words :\n",
    "    iletter = word[0]\n",
    "    if iletter not in by_letter :\n",
    "        by_letter[iletter] = [word]\n",
    "    else :\n",
    "        by_letter[iletter].append(word)\n",
    "print(by_letter)"
   ]
  },
  {
   "cell_type": "code",
   "execution_count": 19,
   "metadata": {},
   "outputs": [
    {
     "name": "stdout",
     "output_type": "stream",
     "text": [
      "{'a': ['apple', 'atom'], 'b': ['bat', 'bar', 'book'], 'h': ['house']}\n"
     ]
    }
   ],
   "source": [
    "# Method setdefault més eficient\n",
    "words = ['apple', 'bat', 'bar', 'atom', 'book', 'house']\n",
    "\n",
    "by_letter = {}\n",
    "for word in words :\n",
    "    iletter = word[0]\n",
    "    by_letter.setdefault(iletter, []).append(word)\n",
    "print(by_letter)"
   ]
  },
  {
   "cell_type": "markdown",
   "metadata": {},
   "source": [
    "## Method defaultdict\n",
    "The built-in collections module has a useful class, defaultdict, which makes this even easier. To create one, you pass a type or function for generating the default value for each slot in the dict."
   ]
  },
  {
   "cell_type": "code",
   "execution_count": 22,
   "metadata": {},
   "outputs": [
    {
     "name": "stdout",
     "output_type": "stream",
     "text": [
      "defaultdict(<class 'list'>, {'a': ['apple', 'atom'], 'b': ['bat', 'bar', 'book'], 'h': ['house']})\n"
     ]
    }
   ],
   "source": [
    "from collections import defaultdict \n",
    "\n",
    "words = ['apple', 'bat', 'bar', 'atom', 'book', 'house']\n",
    "\n",
    "by_letter = defaultdict(list)\n",
    "for word in words:\n",
    "    by_letter[word[0]].append(word)\n",
    "\n",
    "print(by_letter)"
   ]
  },
  {
   "cell_type": "markdown",
   "metadata": {},
   "source": [
    "## Extreure keys o values del dictionary"
   ]
  },
  {
   "cell_type": "code",
   "execution_count": 5,
   "metadata": {},
   "outputs": [
    {
     "name": "stdout",
     "output_type": "stream",
     "text": [
      "['chuck', 'fred', 'jan']\n",
      "[1, 42, 100]\n",
      "[('chuck', 1), ('fred', 42), ('jan', 100)]\n",
      "chuck 1\n",
      "fred 42\n",
      "jan 100\n",
      "chuck 1\n",
      "fred 42\n",
      "jan 100\n"
     ]
    }
   ],
   "source": [
    "counts = {\"chuck\": 1, \"fred\": 42, \"jan\": 100}\n",
    "\n",
    "print(list(counts.keys())) #És una llista amb les keys. \n",
    "print(list(counts.values())) #És una llista amb els values. Té el mateix ORDRE que la llista de keys.\n",
    "print(list(counts.items())) #Són parells de dos valors, tuples, en una llista.\n",
    "\n",
    "for key in counts :   # Bucle for en un dictionary\n",
    "    print(key, counts[key])\n",
    "    \n",
    "\n",
    "for key,value in counts.items() :  # Bucle alternatiu for en una llista de tuples\n",
    "    print(key, value)"
   ]
  },
  {
   "cell_type": "code",
   "execution_count": 6,
   "metadata": {},
   "outputs": [
    {
     "name": "stdout",
     "output_type": "stream",
     "text": [
      "que 3\n",
      "[('que', 3), ('tal', 3)]\n"
     ]
    }
   ],
   "source": [
    "# Exercici que donada una frase, compta quantes vegades hi ha cada paraula, i retorna la més repetida i les vegades que apareix.\n",
    "\n",
    "import string\n",
    "\n",
    "counts = dict()\n",
    "\n",
    "line = input(\"Enter a line of text:\")\n",
    "\n",
    "# line = line.rstrip() Si la lectura fos d'un text, hauríem de suprimir els intros del final de cada línea.\n",
    "\n",
    "line = line.translate(line.maketrans(\"\",\"\",string.punctuation)) #Elimina de la línea els signes de puntuació, perquè sinó, hola! i hola, serien dues paraules diferents.\n",
    "line = line.lower() #Ho posa tot en minúscules, perquè sinó Hola i hola serien paraules diferents.\n",
    "words = line.split() #Genera una llista amb les paraules.\n",
    "\n",
    "for word in words :\n",
    "    counts[word] = counts.get(word,0) + 1 #omplim el diccionari amb la paraula i la quantitat de vegades que apareix a la llista.\n",
    "\n",
    "# Busquem la paraula més repetida i quantes vegades ho està, és a dir, en el diccionari counts mirem qui té l'ítem valor més gran.\n",
    "\n",
    "bigcount = None\n",
    "bigword = None\n",
    "for word,count in counts.items() :\n",
    "    if bigcount is None or count > bigcount : # bigcount is None succeeix en la primera iteració, quan és la primera paraula que mirem, aquesta és per defecte la més repetida. Després ja comparem.\n",
    "        bigcount = count\n",
    "        bigword = word\n",
    "print(bigword, bigcount)\n",
    "\n",
    "# Manera alternativa. Ordenem el diccionari per l'ítem valor, i ens quedem amb el primer ítem. A més, si el següent ítem té el mateix valor (dos o més paraules igual de repetides), volem mostrar-los tots!\n",
    "\n",
    "sort_counts = sorted(counts.items(), key=lambda x: x[1], reverse=True) # count.items és una llista de tuples key-value. El resultat d'aquest sorted és una llista de tuples ordenades pel segon ítem, value, de gran a petit (reverse=true)\n",
    "\n",
    "# sort_counts = sorted([ (value,key) for key,value in counts.items() ], reverse=True) Manera alternativa d'ordenar per valor. Creem una llista de tuples que inverteix les tuples de counts.items i posa primer el valor. Aleshores, sorted ordena aquesta llista pels valors, que és el que volíem. El que passa és que la llista final ordenada està invertida, primer té els valors i després la key.\n",
    "\n",
    "# Si haguéssim volgut ordenar per key, aleshores és tant fàcil com\n",
    "# sort_key_counts = sorted(counts.items())\n",
    "\n",
    "maxims = list() # Creem una llista on col·locar les paraules més repetides\n",
    "\n",
    "for tupla in sort_counts :\n",
    "    if tupla[1] == sort_counts[0][1] : # Si el valor de la paraula de cada tupla és igual que el valor de la primera paraula del diccionari (que és la més gran perquè l'hem ordenat), l'afegim a la llista de maxims\n",
    "        maxims.append(tupla)\n",
    "\n",
    "print(maxims)"
   ]
  },
  {
   "cell_type": "code",
   "execution_count": 10,
   "metadata": {},
   "outputs": [
    {
     "name": "stdout",
     "output_type": "stream",
     "text": [
      "Quantitat de mails rebuts per dia de la setmana {'Sat': 61, 'Fri': 315, 'Thu': 392, 'Wed': 292, 'Tue': 372, 'Mon': 299, 'Sun': 66} \n",
      "\n",
      "Quantitat de mails rebuts per persona {'stephen.marquard@uct.ac.za': 29, 'louis@media.berkeley.edu': 24, 'zqian@umich.edu': 195, 'rjlowe@iupui.edu': 90, 'cwen@iupui.edu': 158, 'gsilver@umich.edu': 28, 'wagnermr@iupui.edu': 44, 'antranig@caret.cam.ac.uk': 18, 'gopal.ramasammycook@gmail.com': 25, 'david.horwitz@uct.ac.za': 67, 'ray@media.berkeley.edu': 32, 'mmmay@indiana.edu': 161, 'stuart.freeman@et.gatech.edu': 17, 'tnguyen@iupui.edu': 6, 'chmaurer@iupui.edu': 111, 'aaronz@vt.edu': 110, 'ian@caret.cam.ac.uk': 96, 'csev@umich.edu': 19, 'jimeng@umich.edu': 93, 'josrodri@iupui.edu': 28, 'knoop@umich.edu': 5, 'bkirschn@umich.edu': 27, 'dlhaines@umich.edu': 84, 'hu2@iupui.edu': 7, 'sgithens@caret.cam.ac.uk': 43, 'arwhyte@umich.edu': 27, 'gbhatnag@umich.edu': 3, 'gjthomas@iupui.edu': 44, 'a.fish@lancaster.ac.uk': 14, 'ajpoland@iupui.edu': 48, 'lance@indiana.edu': 8, 'ssmail@indiana.edu': 5, 'jlrenfro@ucdavis.edu': 1, 'nuno@ufp.pt': 28, 'zach.thomas@txstate.edu': 17, 'ktsao@stanford.edu': 12, 'ostermmg@whitman.edu': 17, 'john.ellis@rsmart.com': 8, 'jleasia@umich.edu': 2, 'ggolden@umich.edu': 8, 'thoppaymallika@fhda.edu': 1, 'kimsooil@bu.edu': 14, 'bahollad@indiana.edu': 4, 'jzaremba@unicon.net': 9, 'mbreuker@loi.nl': 9, 'colin.clark@utoronto.ca': 1} \n",
      "\n",
      "Quantitat de mails rebuts per organització {'uct.ac.za': 96, 'media.berkeley.edu': 56, 'umich.edu': 491, 'iupui.edu': 536, 'caret.cam.ac.uk': 157, 'gmail.com': 25, 'indiana.edu': 178, 'et.gatech.edu': 17, 'vt.edu': 110, 'lancaster.ac.uk': 14, 'ucdavis.edu': 1, 'ufp.pt': 28, 'txstate.edu': 17, 'stanford.edu': 12, 'whitman.edu': 17, 'rsmart.com': 8, 'fhda.edu': 1, 'bu.edu': 14, 'unicon.net': 9, 'loi.nl': 9, 'utoronto.ca': 1} \n",
      "\n",
      "Persona o persones de les quals hem rebut més correus: [('zqian@umich.edu', 195)]\n"
     ]
    }
   ],
   "source": [
    "# Escribir un programa que clasifica cada mensaje de correo dependiendo del día de la semana en que se recibió. Para hacer esto busca las líneas que comienzan con “From”, después busca por la tercer palabra y mantén un contador para cada uno de los días de la semana. Al final del programa imprime los contenidos de tu diccionario (el orden no importa).\n",
    "# Escribe un programa para leer a través de un historial de correos, construye un histograma utilizando un diccionario para contar cuántos mensajes han llegado de cada dirección de correo electrónico, e imprime el diccionario.\n",
    "# Agrega código al programa anterior para determinar quién tiene la mayoría de mensajes en el archivo.\n",
    "# Este programa almacena el nombre del dominio (en vez de la dirección) desde donde fue enviado el mensaje en vez de quién envió el mensaje (es decir, la dirección de correo electrónica completa). Al final del programa, imprime el contenido de tu diccionario.\n",
    "\n",
    "import sys\n",
    "\n",
    "file = input(\"Indica el nom de l'arxiu: \") #mbox.txt\n",
    "try :\n",
    "    file = open(file,\"r\")\n",
    "except :\n",
    "    print(\"No s'ha pogut trobar l'arxiu:\", file)\n",
    "    sys.exit()\n",
    "\n",
    "day_counts = dict()\n",
    "mail_counts = dict()\n",
    "origin_counts = dict()\n",
    "\n",
    "for line in file :\n",
    "    if not line.startswith(\"From \") : #L'exercici demana incloure només els From_ i no els From:\n",
    "        continue\n",
    "    words = line.split()\n",
    "    mail = words[1].split(\"@\") # el segon ítem de la llista words és el mail, així que fem split per l'@ i separem l'usuari de l'organització.\n",
    "    day_counts[words[2]] = day_counts.get(words[2],0) + 1 #words[2] conté el dia de la setmana\n",
    "    mail_counts[words[1]] = mail_counts.get(words[1],0) +1 #words[1] conté el mail\n",
    "    origin_counts[mail[1]] = origin_counts.get(mail[1],0) +1 #mail[1] conté l'organització\n",
    "\n",
    "print(\"Quantitat de mails rebuts per dia de la setmana\", day_counts, \"\\n\")\n",
    "print(\"Quantitat de mails rebuts per persona\", mail_counts, \"\\n\")\n",
    "print(\"Quantitat de mails rebuts per organització\", origin_counts, \"\\n\")\n",
    "\n",
    "sort_mail_counts = sorted(mail_counts.items(), key=lambda x: x[1], reverse=True)\n",
    "\n",
    "maxims = list() # Creem una llista on col·locar els mails més repetits\n",
    "\n",
    "for tupla in sort_mail_counts :\n",
    "    if tupla[1] == sort_mail_counts[0][1] : # Si el valor del mail de cada tupla és igual que el valor del primer mail (que és el més gran perquè l'hem ordenat), l'afegim a la llista de maxims\n",
    "        maxims.append(tupla)\n",
    "\n",
    "print(\"Persona o persones de les quals hem rebut més correus:\", maxims)"
   ]
  }
 ],
 "metadata": {
  "kernelspec": {
   "display_name": "Python 3.8.9 64-bit",
   "language": "python",
   "name": "python3"
  },
  "language_info": {
   "codemirror_mode": {
    "name": "ipython",
    "version": 3
   },
   "file_extension": ".py",
   "mimetype": "text/x-python",
   "name": "python",
   "nbconvert_exporter": "python",
   "pygments_lexer": "ipython3",
   "version": "3.8.9"
  },
  "orig_nbformat": 4,
  "vscode": {
   "interpreter": {
    "hash": "31f2aee4e71d21fbe5cf8b01ff0e069b9275f58929596ceb00d14d90e3e16cd6"
   }
  }
 },
 "nbformat": 4,
 "nbformat_minor": 2
}
